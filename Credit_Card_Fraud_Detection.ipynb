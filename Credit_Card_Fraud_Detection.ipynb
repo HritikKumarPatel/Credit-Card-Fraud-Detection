{
  "metadata": {
    "kernelspec": {
      "language": "python",
      "display_name": "Python 3",
      "name": "python3"
    },
    "language_info": {
      "pygments_lexer": "ipython3",
      "nbconvert_exporter": "python",
      "version": "3.6.4",
      "file_extension": ".py",
      "codemirror_mode": {
        "name": "ipython",
        "version": 3
      },
      "name": "python",
      "mimetype": "text/x-python"
    },
    "colab": {
      "provenance": [],
      "collapsed_sections": [
        "_iwiAe8Aj8Te",
        "Mrflkk0aj8Tt",
        "29_Y-9H6j8Tu",
        "DNB_IgmNj8Tv",
        "RIJnhTM_j8Tw",
        "vLqwLjQjj8Tx",
        "pZNQYq9lj8Tz",
        "45Umu4TBj8T5"
      ]
    }
  },
  "nbformat_minor": 0,
  "nbformat": 4,
  "cells": [
    {
      "cell_type": "code",
      "source": [
        "import pandas as pd \n",
        "import numpy as np \n",
        "import seaborn as sns \n",
        "import matplotlib.pyplot as plt\n",
        "import plotly.express as px\n",
        "from plotly.subplots import make_subplots\n",
        "import plotly.graph_objects as go\n",
        "import plotly\n",
        "\n",
        "\n",
        "from sklearn.metrics import confusion_matrix,accuracy_score,f1_score,precision_score,plot_roc_curve,accuracy_score,recall_score\n",
        "from sklearn.metrics import plot_confusion_matrix\n"
      ],
      "metadata": {
        "execution": {
          "iopub.execute_input": "2022-10-06T19:01:18.578986Z",
          "iopub.status.busy": "2022-10-06T19:01:18.578523Z",
          "iopub.status.idle": "2022-10-06T19:01:20.920257Z",
          "shell.execute_reply": "2022-10-06T19:01:20.918945Z"
        },
        "papermill": {
          "duration": 2.37458,
          "end_time": "2022-10-06T19:01:20.923272",
          "exception": false,
          "start_time": "2022-10-06T19:01:18.548692",
          "status": "completed"
        },
        "tags": [],
        "id": "cQzGA03vj8TZ"
      },
      "execution_count": 102,
      "outputs": []
    },
    {
      "cell_type": "code",
      "source": [
        "from google.colab import drive\n",
        "drive.mount('/content/gdrive/', force_remount=True) "
      ],
      "metadata": {
        "colab": {
          "base_uri": "https://localhost:8080/"
        },
        "id": "Lmx6T_pMyaIz",
        "outputId": "4064b02a-9be4-423b-f6ab-239e63b76a20"
      },
      "execution_count": 103,
      "outputs": [
        {
          "output_type": "stream",
          "name": "stdout",
          "text": [
            "Mounted at /content/gdrive/\n"
          ]
        }
      ]
    },
    {
      "cell_type": "markdown",
      "source": [
        "After this you can upload dataset to your Google Drive and run below command"
      ],
      "metadata": {
        "id": "ZjPnUQHwKrYO"
      }
    },
    {
      "cell_type": "markdown",
      "source": [
        "## Data Analysis and Cleaning"
      ],
      "metadata": {
        "papermill": {
          "duration": 0.026276,
          "end_time": "2022-10-06T19:01:20.976119",
          "exception": false,
          "start_time": "2022-10-06T19:01:20.949843",
          "status": "completed"
        },
        "tags": [],
        "id": "_iwiAe8Aj8Te"
      }
    },
    {
      "cell_type": "code",
      "source": [
        "data=pd.read_csv('gdrive/MyDrive/creditcard.csv')"
      ],
      "metadata": {
        "id": "lQ8kDyZ1yalq"
      },
      "execution_count": 104,
      "outputs": []
    },
    {
      "cell_type": "code",
      "source": [
        "data.head()"
      ],
      "metadata": {
        "execution": {
          "iopub.execute_input": "2022-10-06T19:01:26.050749Z",
          "iopub.status.busy": "2022-10-06T19:01:26.050347Z",
          "iopub.status.idle": "2022-10-06T19:01:26.090018Z",
          "shell.execute_reply": "2022-10-06T19:01:26.0888Z"
        },
        "papermill": {
          "duration": 0.069902,
          "end_time": "2022-10-06T19:01:26.09333",
          "exception": false,
          "start_time": "2022-10-06T19:01:26.023428",
          "status": "completed"
        },
        "tags": [],
        "id": "FXgH8REZj8Tg",
        "colab": {
          "base_uri": "https://localhost:8080/",
          "height": 299
        },
        "outputId": "9b893796-5b98-4cca-bafa-dd6700150d3e"
      },
      "execution_count": 105,
      "outputs": [
        {
          "output_type": "execute_result",
          "data": {
            "text/plain": [
              "   Time        V1        V2        V3        V4        V5        V6        V7  \\\n",
              "0   0.0 -1.359807 -0.072781  2.536347  1.378155 -0.338321  0.462388  0.239599   \n",
              "1   0.0  1.191857  0.266151  0.166480  0.448154  0.060018 -0.082361 -0.078803   \n",
              "2   1.0 -1.358354 -1.340163  1.773209  0.379780 -0.503198  1.800499  0.791461   \n",
              "3   1.0 -0.966272 -0.185226  1.792993 -0.863291 -0.010309  1.247203  0.237609   \n",
              "4   2.0 -1.158233  0.877737  1.548718  0.403034 -0.407193  0.095921  0.592941   \n",
              "\n",
              "         V8        V9  ...       V21       V22       V23       V24       V25  \\\n",
              "0  0.098698  0.363787  ... -0.018307  0.277838 -0.110474  0.066928  0.128539   \n",
              "1  0.085102 -0.255425  ... -0.225775 -0.638672  0.101288 -0.339846  0.167170   \n",
              "2  0.247676 -1.514654  ...  0.247998  0.771679  0.909412 -0.689281 -0.327642   \n",
              "3  0.377436 -1.387024  ... -0.108300  0.005274 -0.190321 -1.175575  0.647376   \n",
              "4 -0.270533  0.817739  ... -0.009431  0.798278 -0.137458  0.141267 -0.206010   \n",
              "\n",
              "        V26       V27       V28  Amount  Class  \n",
              "0 -0.189115  0.133558 -0.021053  149.62      0  \n",
              "1  0.125895 -0.008983  0.014724    2.69      0  \n",
              "2 -0.139097 -0.055353 -0.059752  378.66      0  \n",
              "3 -0.221929  0.062723  0.061458  123.50      0  \n",
              "4  0.502292  0.219422  0.215153   69.99      0  \n",
              "\n",
              "[5 rows x 31 columns]"
            ],
            "text/html": [
              "\n",
              "  <div id=\"df-fd597a87-8fa7-475e-8828-096dd9692d96\">\n",
              "    <div class=\"colab-df-container\">\n",
              "      <div>\n",
              "<style scoped>\n",
              "    .dataframe tbody tr th:only-of-type {\n",
              "        vertical-align: middle;\n",
              "    }\n",
              "\n",
              "    .dataframe tbody tr th {\n",
              "        vertical-align: top;\n",
              "    }\n",
              "\n",
              "    .dataframe thead th {\n",
              "        text-align: right;\n",
              "    }\n",
              "</style>\n",
              "<table border=\"1\" class=\"dataframe\">\n",
              "  <thead>\n",
              "    <tr style=\"text-align: right;\">\n",
              "      <th></th>\n",
              "      <th>Time</th>\n",
              "      <th>V1</th>\n",
              "      <th>V2</th>\n",
              "      <th>V3</th>\n",
              "      <th>V4</th>\n",
              "      <th>V5</th>\n",
              "      <th>V6</th>\n",
              "      <th>V7</th>\n",
              "      <th>V8</th>\n",
              "      <th>V9</th>\n",
              "      <th>...</th>\n",
              "      <th>V21</th>\n",
              "      <th>V22</th>\n",
              "      <th>V23</th>\n",
              "      <th>V24</th>\n",
              "      <th>V25</th>\n",
              "      <th>V26</th>\n",
              "      <th>V27</th>\n",
              "      <th>V28</th>\n",
              "      <th>Amount</th>\n",
              "      <th>Class</th>\n",
              "    </tr>\n",
              "  </thead>\n",
              "  <tbody>\n",
              "    <tr>\n",
              "      <th>0</th>\n",
              "      <td>0.0</td>\n",
              "      <td>-1.359807</td>\n",
              "      <td>-0.072781</td>\n",
              "      <td>2.536347</td>\n",
              "      <td>1.378155</td>\n",
              "      <td>-0.338321</td>\n",
              "      <td>0.462388</td>\n",
              "      <td>0.239599</td>\n",
              "      <td>0.098698</td>\n",
              "      <td>0.363787</td>\n",
              "      <td>...</td>\n",
              "      <td>-0.018307</td>\n",
              "      <td>0.277838</td>\n",
              "      <td>-0.110474</td>\n",
              "      <td>0.066928</td>\n",
              "      <td>0.128539</td>\n",
              "      <td>-0.189115</td>\n",
              "      <td>0.133558</td>\n",
              "      <td>-0.021053</td>\n",
              "      <td>149.62</td>\n",
              "      <td>0</td>\n",
              "    </tr>\n",
              "    <tr>\n",
              "      <th>1</th>\n",
              "      <td>0.0</td>\n",
              "      <td>1.191857</td>\n",
              "      <td>0.266151</td>\n",
              "      <td>0.166480</td>\n",
              "      <td>0.448154</td>\n",
              "      <td>0.060018</td>\n",
              "      <td>-0.082361</td>\n",
              "      <td>-0.078803</td>\n",
              "      <td>0.085102</td>\n",
              "      <td>-0.255425</td>\n",
              "      <td>...</td>\n",
              "      <td>-0.225775</td>\n",
              "      <td>-0.638672</td>\n",
              "      <td>0.101288</td>\n",
              "      <td>-0.339846</td>\n",
              "      <td>0.167170</td>\n",
              "      <td>0.125895</td>\n",
              "      <td>-0.008983</td>\n",
              "      <td>0.014724</td>\n",
              "      <td>2.69</td>\n",
              "      <td>0</td>\n",
              "    </tr>\n",
              "    <tr>\n",
              "      <th>2</th>\n",
              "      <td>1.0</td>\n",
              "      <td>-1.358354</td>\n",
              "      <td>-1.340163</td>\n",
              "      <td>1.773209</td>\n",
              "      <td>0.379780</td>\n",
              "      <td>-0.503198</td>\n",
              "      <td>1.800499</td>\n",
              "      <td>0.791461</td>\n",
              "      <td>0.247676</td>\n",
              "      <td>-1.514654</td>\n",
              "      <td>...</td>\n",
              "      <td>0.247998</td>\n",
              "      <td>0.771679</td>\n",
              "      <td>0.909412</td>\n",
              "      <td>-0.689281</td>\n",
              "      <td>-0.327642</td>\n",
              "      <td>-0.139097</td>\n",
              "      <td>-0.055353</td>\n",
              "      <td>-0.059752</td>\n",
              "      <td>378.66</td>\n",
              "      <td>0</td>\n",
              "    </tr>\n",
              "    <tr>\n",
              "      <th>3</th>\n",
              "      <td>1.0</td>\n",
              "      <td>-0.966272</td>\n",
              "      <td>-0.185226</td>\n",
              "      <td>1.792993</td>\n",
              "      <td>-0.863291</td>\n",
              "      <td>-0.010309</td>\n",
              "      <td>1.247203</td>\n",
              "      <td>0.237609</td>\n",
              "      <td>0.377436</td>\n",
              "      <td>-1.387024</td>\n",
              "      <td>...</td>\n",
              "      <td>-0.108300</td>\n",
              "      <td>0.005274</td>\n",
              "      <td>-0.190321</td>\n",
              "      <td>-1.175575</td>\n",
              "      <td>0.647376</td>\n",
              "      <td>-0.221929</td>\n",
              "      <td>0.062723</td>\n",
              "      <td>0.061458</td>\n",
              "      <td>123.50</td>\n",
              "      <td>0</td>\n",
              "    </tr>\n",
              "    <tr>\n",
              "      <th>4</th>\n",
              "      <td>2.0</td>\n",
              "      <td>-1.158233</td>\n",
              "      <td>0.877737</td>\n",
              "      <td>1.548718</td>\n",
              "      <td>0.403034</td>\n",
              "      <td>-0.407193</td>\n",
              "      <td>0.095921</td>\n",
              "      <td>0.592941</td>\n",
              "      <td>-0.270533</td>\n",
              "      <td>0.817739</td>\n",
              "      <td>...</td>\n",
              "      <td>-0.009431</td>\n",
              "      <td>0.798278</td>\n",
              "      <td>-0.137458</td>\n",
              "      <td>0.141267</td>\n",
              "      <td>-0.206010</td>\n",
              "      <td>0.502292</td>\n",
              "      <td>0.219422</td>\n",
              "      <td>0.215153</td>\n",
              "      <td>69.99</td>\n",
              "      <td>0</td>\n",
              "    </tr>\n",
              "  </tbody>\n",
              "</table>\n",
              "<p>5 rows × 31 columns</p>\n",
              "</div>\n",
              "      <button class=\"colab-df-convert\" onclick=\"convertToInteractive('df-fd597a87-8fa7-475e-8828-096dd9692d96')\"\n",
              "              title=\"Convert this dataframe to an interactive table.\"\n",
              "              style=\"display:none;\">\n",
              "        \n",
              "  <svg xmlns=\"http://www.w3.org/2000/svg\" height=\"24px\"viewBox=\"0 0 24 24\"\n",
              "       width=\"24px\">\n",
              "    <path d=\"M0 0h24v24H0V0z\" fill=\"none\"/>\n",
              "    <path d=\"M18.56 5.44l.94 2.06.94-2.06 2.06-.94-2.06-.94-.94-2.06-.94 2.06-2.06.94zm-11 1L8.5 8.5l.94-2.06 2.06-.94-2.06-.94L8.5 2.5l-.94 2.06-2.06.94zm10 10l.94 2.06.94-2.06 2.06-.94-2.06-.94-.94-2.06-.94 2.06-2.06.94z\"/><path d=\"M17.41 7.96l-1.37-1.37c-.4-.4-.92-.59-1.43-.59-.52 0-1.04.2-1.43.59L10.3 9.45l-7.72 7.72c-.78.78-.78 2.05 0 2.83L4 21.41c.39.39.9.59 1.41.59.51 0 1.02-.2 1.41-.59l7.78-7.78 2.81-2.81c.8-.78.8-2.07 0-2.86zM5.41 20L4 18.59l7.72-7.72 1.47 1.35L5.41 20z\"/>\n",
              "  </svg>\n",
              "      </button>\n",
              "      \n",
              "  <style>\n",
              "    .colab-df-container {\n",
              "      display:flex;\n",
              "      flex-wrap:wrap;\n",
              "      gap: 12px;\n",
              "    }\n",
              "\n",
              "    .colab-df-convert {\n",
              "      background-color: #E8F0FE;\n",
              "      border: none;\n",
              "      border-radius: 50%;\n",
              "      cursor: pointer;\n",
              "      display: none;\n",
              "      fill: #1967D2;\n",
              "      height: 32px;\n",
              "      padding: 0 0 0 0;\n",
              "      width: 32px;\n",
              "    }\n",
              "\n",
              "    .colab-df-convert:hover {\n",
              "      background-color: #E2EBFA;\n",
              "      box-shadow: 0px 1px 2px rgba(60, 64, 67, 0.3), 0px 1px 3px 1px rgba(60, 64, 67, 0.15);\n",
              "      fill: #174EA6;\n",
              "    }\n",
              "\n",
              "    [theme=dark] .colab-df-convert {\n",
              "      background-color: #3B4455;\n",
              "      fill: #D2E3FC;\n",
              "    }\n",
              "\n",
              "    [theme=dark] .colab-df-convert:hover {\n",
              "      background-color: #434B5C;\n",
              "      box-shadow: 0px 1px 3px 1px rgba(0, 0, 0, 0.15);\n",
              "      filter: drop-shadow(0px 1px 2px rgba(0, 0, 0, 0.3));\n",
              "      fill: #FFFFFF;\n",
              "    }\n",
              "  </style>\n",
              "\n",
              "      <script>\n",
              "        const buttonEl =\n",
              "          document.querySelector('#df-fd597a87-8fa7-475e-8828-096dd9692d96 button.colab-df-convert');\n",
              "        buttonEl.style.display =\n",
              "          google.colab.kernel.accessAllowed ? 'block' : 'none';\n",
              "\n",
              "        async function convertToInteractive(key) {\n",
              "          const element = document.querySelector('#df-fd597a87-8fa7-475e-8828-096dd9692d96');\n",
              "          const dataTable =\n",
              "            await google.colab.kernel.invokeFunction('convertToInteractive',\n",
              "                                                     [key], {});\n",
              "          if (!dataTable) return;\n",
              "\n",
              "          const docLinkHtml = 'Like what you see? Visit the ' +\n",
              "            '<a target=\"_blank\" href=https://colab.research.google.com/notebooks/data_table.ipynb>data table notebook</a>'\n",
              "            + ' to learn more about interactive tables.';\n",
              "          element.innerHTML = '';\n",
              "          dataTable['output_type'] = 'display_data';\n",
              "          await google.colab.output.renderOutput(dataTable, element);\n",
              "          const docLink = document.createElement('div');\n",
              "          docLink.innerHTML = docLinkHtml;\n",
              "          element.appendChild(docLink);\n",
              "        }\n",
              "      </script>\n",
              "    </div>\n",
              "  </div>\n",
              "  "
            ]
          },
          "metadata": {},
          "execution_count": 105
        }
      ]
    },
    {
      "cell_type": "code",
      "source": [
        "data.dtypes"
      ],
      "metadata": {
        "execution": {
          "iopub.execute_input": "2022-10-06T19:01:26.211098Z",
          "iopub.status.busy": "2022-10-06T19:01:26.210675Z",
          "iopub.status.idle": "2022-10-06T19:01:26.219863Z",
          "shell.execute_reply": "2022-10-06T19:01:26.218724Z"
        },
        "papermill": {
          "duration": 0.038755,
          "end_time": "2022-10-06T19:01:26.222347",
          "exception": false,
          "start_time": "2022-10-06T19:01:26.183592",
          "status": "completed"
        },
        "tags": [],
        "id": "N5Pq7yk6j8Th",
        "colab": {
          "base_uri": "https://localhost:8080/"
        },
        "outputId": "26767621-86a9-4289-db8e-712e225dc5a1"
      },
      "execution_count": 106,
      "outputs": [
        {
          "output_type": "execute_result",
          "data": {
            "text/plain": [
              "Time      float64\n",
              "V1        float64\n",
              "V2        float64\n",
              "V3        float64\n",
              "V4        float64\n",
              "V5        float64\n",
              "V6        float64\n",
              "V7        float64\n",
              "V8        float64\n",
              "V9        float64\n",
              "V10       float64\n",
              "V11       float64\n",
              "V12       float64\n",
              "V13       float64\n",
              "V14       float64\n",
              "V15       float64\n",
              "V16       float64\n",
              "V17       float64\n",
              "V18       float64\n",
              "V19       float64\n",
              "V20       float64\n",
              "V21       float64\n",
              "V22       float64\n",
              "V23       float64\n",
              "V24       float64\n",
              "V25       float64\n",
              "V26       float64\n",
              "V27       float64\n",
              "V28       float64\n",
              "Amount    float64\n",
              "Class       int64\n",
              "dtype: object"
            ]
          },
          "metadata": {},
          "execution_count": 106
        }
      ]
    },
    {
      "cell_type": "code",
      "source": [
        "data.describe().round(2).style.background_gradient()"
      ],
      "metadata": {
        "execution": {
          "iopub.execute_input": "2022-10-06T19:01:26.431031Z",
          "iopub.status.busy": "2022-10-06T19:01:26.4306Z",
          "iopub.status.idle": "2022-10-06T19:01:27.036907Z",
          "shell.execute_reply": "2022-10-06T19:01:27.035797Z"
        },
        "papermill": {
          "duration": 0.636394,
          "end_time": "2022-10-06T19:01:27.039573",
          "exception": false,
          "start_time": "2022-10-06T19:01:26.403179",
          "status": "completed"
        },
        "tags": [],
        "id": "tgEUbshbj8Tj",
        "colab": {
          "base_uri": "https://localhost:8080/",
          "height": 320
        },
        "outputId": "ab6d5f4c-5773-433e-fdb1-baf986061e90"
      },
      "execution_count": 107,
      "outputs": [
        {
          "output_type": "execute_result",
          "data": {
            "text/plain": [
              "<pandas.io.formats.style.Styler at 0x7f3e84269150>"
            ],
            "text/html": [
              "<style type=\"text/css\">\n",
              "#T_bb679_row0_col0, #T_bb679_row0_col1, #T_bb679_row0_col2, #T_bb679_row0_col3, #T_bb679_row0_col4, #T_bb679_row0_col5, #T_bb679_row0_col6, #T_bb679_row0_col7, #T_bb679_row0_col8, #T_bb679_row0_col9, #T_bb679_row0_col10, #T_bb679_row0_col11, #T_bb679_row0_col12, #T_bb679_row0_col13, #T_bb679_row0_col14, #T_bb679_row0_col15, #T_bb679_row0_col16, #T_bb679_row0_col17, #T_bb679_row0_col18, #T_bb679_row0_col19, #T_bb679_row0_col20, #T_bb679_row0_col21, #T_bb679_row0_col22, #T_bb679_row0_col23, #T_bb679_row0_col24, #T_bb679_row0_col25, #T_bb679_row0_col26, #T_bb679_row0_col27, #T_bb679_row0_col28, #T_bb679_row0_col29, #T_bb679_row0_col30 {\n",
              "  background-color: #023858;\n",
              "  color: #f1f1f1;\n",
              "}\n",
              "#T_bb679_row1_col0 {\n",
              "  background-color: #b4c4df;\n",
              "  color: #000000;\n",
              "}\n",
              "#T_bb679_row1_col1, #T_bb679_row1_col2, #T_bb679_row1_col3, #T_bb679_row1_col4, #T_bb679_row1_col5, #T_bb679_row1_col6, #T_bb679_row1_col7, #T_bb679_row1_col8, #T_bb679_row1_col9, #T_bb679_row1_col10, #T_bb679_row1_col11, #T_bb679_row1_col12, #T_bb679_row1_col13, #T_bb679_row1_col14, #T_bb679_row1_col15, #T_bb679_row1_col16, #T_bb679_row1_col17, #T_bb679_row1_col18, #T_bb679_row1_col19, #T_bb679_row1_col20, #T_bb679_row1_col21, #T_bb679_row1_col22, #T_bb679_row1_col23, #T_bb679_row1_col24, #T_bb679_row1_col25, #T_bb679_row1_col26, #T_bb679_row1_col27, #T_bb679_row1_col28, #T_bb679_row1_col29, #T_bb679_row1_col30, #T_bb679_row2_col1, #T_bb679_row2_col2, #T_bb679_row2_col3, #T_bb679_row2_col4, #T_bb679_row2_col5, #T_bb679_row2_col6, #T_bb679_row2_col7, #T_bb679_row2_col8, #T_bb679_row2_col9, #T_bb679_row2_col10, #T_bb679_row2_col11, #T_bb679_row2_col12, #T_bb679_row2_col13, #T_bb679_row2_col14, #T_bb679_row2_col15, #T_bb679_row2_col16, #T_bb679_row2_col17, #T_bb679_row2_col18, #T_bb679_row2_col19, #T_bb679_row2_col20, #T_bb679_row2_col21, #T_bb679_row2_col22, #T_bb679_row2_col23, #T_bb679_row2_col24, #T_bb679_row2_col25, #T_bb679_row2_col26, #T_bb679_row2_col27, #T_bb679_row2_col28, #T_bb679_row2_col29, #T_bb679_row2_col30, #T_bb679_row3_col0, #T_bb679_row3_col1, #T_bb679_row3_col2, #T_bb679_row3_col3, #T_bb679_row3_col4, #T_bb679_row3_col5, #T_bb679_row3_col6, #T_bb679_row3_col7, #T_bb679_row3_col8, #T_bb679_row3_col9, #T_bb679_row3_col10, #T_bb679_row3_col11, #T_bb679_row3_col12, #T_bb679_row3_col13, #T_bb679_row3_col14, #T_bb679_row3_col15, #T_bb679_row3_col16, #T_bb679_row3_col17, #T_bb679_row3_col18, #T_bb679_row3_col19, #T_bb679_row3_col20, #T_bb679_row3_col21, #T_bb679_row3_col22, #T_bb679_row3_col23, #T_bb679_row3_col24, #T_bb679_row3_col25, #T_bb679_row3_col26, #T_bb679_row3_col27, #T_bb679_row3_col28, #T_bb679_row3_col29, #T_bb679_row3_col30, #T_bb679_row4_col1, #T_bb679_row4_col2, #T_bb679_row4_col3, #T_bb679_row4_col4, #T_bb679_row4_col5, #T_bb679_row4_col6, #T_bb679_row4_col7, #T_bb679_row4_col8, #T_bb679_row4_col9, #T_bb679_row4_col10, #T_bb679_row4_col11, #T_bb679_row4_col12, #T_bb679_row4_col13, #T_bb679_row4_col14, #T_bb679_row4_col15, #T_bb679_row4_col16, #T_bb679_row4_col17, #T_bb679_row4_col18, #T_bb679_row4_col19, #T_bb679_row4_col20, #T_bb679_row4_col21, #T_bb679_row4_col22, #T_bb679_row4_col23, #T_bb679_row4_col24, #T_bb679_row4_col25, #T_bb679_row4_col26, #T_bb679_row4_col27, #T_bb679_row4_col28, #T_bb679_row4_col29, #T_bb679_row4_col30, #T_bb679_row5_col1, #T_bb679_row5_col2, #T_bb679_row5_col3, #T_bb679_row5_col4, #T_bb679_row5_col5, #T_bb679_row5_col6, #T_bb679_row5_col7, #T_bb679_row5_col8, #T_bb679_row5_col9, #T_bb679_row5_col10, #T_bb679_row5_col11, #T_bb679_row5_col12, #T_bb679_row5_col13, #T_bb679_row5_col14, #T_bb679_row5_col15, #T_bb679_row5_col16, #T_bb679_row5_col17, #T_bb679_row5_col18, #T_bb679_row5_col19, #T_bb679_row5_col20, #T_bb679_row5_col21, #T_bb679_row5_col22, #T_bb679_row5_col23, #T_bb679_row5_col24, #T_bb679_row5_col25, #T_bb679_row5_col26, #T_bb679_row5_col27, #T_bb679_row5_col28, #T_bb679_row5_col29, #T_bb679_row5_col30, #T_bb679_row6_col1, #T_bb679_row6_col2, #T_bb679_row6_col3, #T_bb679_row6_col4, #T_bb679_row6_col5, #T_bb679_row6_col6, #T_bb679_row6_col7, #T_bb679_row6_col8, #T_bb679_row6_col9, #T_bb679_row6_col10, #T_bb679_row6_col11, #T_bb679_row6_col12, #T_bb679_row6_col13, #T_bb679_row6_col14, #T_bb679_row6_col15, #T_bb679_row6_col16, #T_bb679_row6_col17, #T_bb679_row6_col18, #T_bb679_row6_col19, #T_bb679_row6_col20, #T_bb679_row6_col21, #T_bb679_row6_col22, #T_bb679_row6_col23, #T_bb679_row6_col24, #T_bb679_row6_col25, #T_bb679_row6_col26, #T_bb679_row6_col27, #T_bb679_row6_col28, #T_bb679_row6_col29, #T_bb679_row6_col30, #T_bb679_row7_col1, #T_bb679_row7_col2, #T_bb679_row7_col3, #T_bb679_row7_col4, #T_bb679_row7_col5, #T_bb679_row7_col6, #T_bb679_row7_col7, #T_bb679_row7_col8, #T_bb679_row7_col9, #T_bb679_row7_col10, #T_bb679_row7_col11, #T_bb679_row7_col12, #T_bb679_row7_col13, #T_bb679_row7_col14, #T_bb679_row7_col15, #T_bb679_row7_col16, #T_bb679_row7_col17, #T_bb679_row7_col18, #T_bb679_row7_col19, #T_bb679_row7_col20, #T_bb679_row7_col21, #T_bb679_row7_col22, #T_bb679_row7_col23, #T_bb679_row7_col24, #T_bb679_row7_col25, #T_bb679_row7_col26, #T_bb679_row7_col27, #T_bb679_row7_col28, #T_bb679_row7_col30 {\n",
              "  background-color: #fff7fb;\n",
              "  color: #000000;\n",
              "}\n",
              "#T_bb679_row2_col0 {\n",
              "  background-color: #e3e0ee;\n",
              "  color: #000000;\n",
              "}\n",
              "#T_bb679_row4_col0 {\n",
              "  background-color: #dedcec;\n",
              "  color: #000000;\n",
              "}\n",
              "#T_bb679_row5_col0 {\n",
              "  background-color: #c0c9e2;\n",
              "  color: #000000;\n",
              "}\n",
              "#T_bb679_row6_col0 {\n",
              "  background-color: #78abd0;\n",
              "  color: #f1f1f1;\n",
              "}\n",
              "#T_bb679_row7_col0 {\n",
              "  background-color: #3f93c2;\n",
              "  color: #f1f1f1;\n",
              "}\n",
              "#T_bb679_row7_col29 {\n",
              "  background-color: #f1ebf5;\n",
              "  color: #000000;\n",
              "}\n",
              "</style>\n",
              "<table id=\"T_bb679_\" class=\"dataframe\">\n",
              "  <thead>\n",
              "    <tr>\n",
              "      <th class=\"blank level0\" >&nbsp;</th>\n",
              "      <th class=\"col_heading level0 col0\" >Time</th>\n",
              "      <th class=\"col_heading level0 col1\" >V1</th>\n",
              "      <th class=\"col_heading level0 col2\" >V2</th>\n",
              "      <th class=\"col_heading level0 col3\" >V3</th>\n",
              "      <th class=\"col_heading level0 col4\" >V4</th>\n",
              "      <th class=\"col_heading level0 col5\" >V5</th>\n",
              "      <th class=\"col_heading level0 col6\" >V6</th>\n",
              "      <th class=\"col_heading level0 col7\" >V7</th>\n",
              "      <th class=\"col_heading level0 col8\" >V8</th>\n",
              "      <th class=\"col_heading level0 col9\" >V9</th>\n",
              "      <th class=\"col_heading level0 col10\" >V10</th>\n",
              "      <th class=\"col_heading level0 col11\" >V11</th>\n",
              "      <th class=\"col_heading level0 col12\" >V12</th>\n",
              "      <th class=\"col_heading level0 col13\" >V13</th>\n",
              "      <th class=\"col_heading level0 col14\" >V14</th>\n",
              "      <th class=\"col_heading level0 col15\" >V15</th>\n",
              "      <th class=\"col_heading level0 col16\" >V16</th>\n",
              "      <th class=\"col_heading level0 col17\" >V17</th>\n",
              "      <th class=\"col_heading level0 col18\" >V18</th>\n",
              "      <th class=\"col_heading level0 col19\" >V19</th>\n",
              "      <th class=\"col_heading level0 col20\" >V20</th>\n",
              "      <th class=\"col_heading level0 col21\" >V21</th>\n",
              "      <th class=\"col_heading level0 col22\" >V22</th>\n",
              "      <th class=\"col_heading level0 col23\" >V23</th>\n",
              "      <th class=\"col_heading level0 col24\" >V24</th>\n",
              "      <th class=\"col_heading level0 col25\" >V25</th>\n",
              "      <th class=\"col_heading level0 col26\" >V26</th>\n",
              "      <th class=\"col_heading level0 col27\" >V27</th>\n",
              "      <th class=\"col_heading level0 col28\" >V28</th>\n",
              "      <th class=\"col_heading level0 col29\" >Amount</th>\n",
              "      <th class=\"col_heading level0 col30\" >Class</th>\n",
              "    </tr>\n",
              "  </thead>\n",
              "  <tbody>\n",
              "    <tr>\n",
              "      <th id=\"T_bb679_level0_row0\" class=\"row_heading level0 row0\" >count</th>\n",
              "      <td id=\"T_bb679_row0_col0\" class=\"data row0 col0\" >284807.000000</td>\n",
              "      <td id=\"T_bb679_row0_col1\" class=\"data row0 col1\" >284807.000000</td>\n",
              "      <td id=\"T_bb679_row0_col2\" class=\"data row0 col2\" >284807.000000</td>\n",
              "      <td id=\"T_bb679_row0_col3\" class=\"data row0 col3\" >284807.000000</td>\n",
              "      <td id=\"T_bb679_row0_col4\" class=\"data row0 col4\" >284807.000000</td>\n",
              "      <td id=\"T_bb679_row0_col5\" class=\"data row0 col5\" >284807.000000</td>\n",
              "      <td id=\"T_bb679_row0_col6\" class=\"data row0 col6\" >284807.000000</td>\n",
              "      <td id=\"T_bb679_row0_col7\" class=\"data row0 col7\" >284807.000000</td>\n",
              "      <td id=\"T_bb679_row0_col8\" class=\"data row0 col8\" >284807.000000</td>\n",
              "      <td id=\"T_bb679_row0_col9\" class=\"data row0 col9\" >284807.000000</td>\n",
              "      <td id=\"T_bb679_row0_col10\" class=\"data row0 col10\" >284807.000000</td>\n",
              "      <td id=\"T_bb679_row0_col11\" class=\"data row0 col11\" >284807.000000</td>\n",
              "      <td id=\"T_bb679_row0_col12\" class=\"data row0 col12\" >284807.000000</td>\n",
              "      <td id=\"T_bb679_row0_col13\" class=\"data row0 col13\" >284807.000000</td>\n",
              "      <td id=\"T_bb679_row0_col14\" class=\"data row0 col14\" >284807.000000</td>\n",
              "      <td id=\"T_bb679_row0_col15\" class=\"data row0 col15\" >284807.000000</td>\n",
              "      <td id=\"T_bb679_row0_col16\" class=\"data row0 col16\" >284807.000000</td>\n",
              "      <td id=\"T_bb679_row0_col17\" class=\"data row0 col17\" >284807.000000</td>\n",
              "      <td id=\"T_bb679_row0_col18\" class=\"data row0 col18\" >284807.000000</td>\n",
              "      <td id=\"T_bb679_row0_col19\" class=\"data row0 col19\" >284807.000000</td>\n",
              "      <td id=\"T_bb679_row0_col20\" class=\"data row0 col20\" >284807.000000</td>\n",
              "      <td id=\"T_bb679_row0_col21\" class=\"data row0 col21\" >284807.000000</td>\n",
              "      <td id=\"T_bb679_row0_col22\" class=\"data row0 col22\" >284807.000000</td>\n",
              "      <td id=\"T_bb679_row0_col23\" class=\"data row0 col23\" >284807.000000</td>\n",
              "      <td id=\"T_bb679_row0_col24\" class=\"data row0 col24\" >284807.000000</td>\n",
              "      <td id=\"T_bb679_row0_col25\" class=\"data row0 col25\" >284807.000000</td>\n",
              "      <td id=\"T_bb679_row0_col26\" class=\"data row0 col26\" >284807.000000</td>\n",
              "      <td id=\"T_bb679_row0_col27\" class=\"data row0 col27\" >284807.000000</td>\n",
              "      <td id=\"T_bb679_row0_col28\" class=\"data row0 col28\" >284807.000000</td>\n",
              "      <td id=\"T_bb679_row0_col29\" class=\"data row0 col29\" >284807.000000</td>\n",
              "      <td id=\"T_bb679_row0_col30\" class=\"data row0 col30\" >284807.000000</td>\n",
              "    </tr>\n",
              "    <tr>\n",
              "      <th id=\"T_bb679_level0_row1\" class=\"row_heading level0 row1\" >mean</th>\n",
              "      <td id=\"T_bb679_row1_col0\" class=\"data row1 col0\" >94813.860000</td>\n",
              "      <td id=\"T_bb679_row1_col1\" class=\"data row1 col1\" >0.000000</td>\n",
              "      <td id=\"T_bb679_row1_col2\" class=\"data row1 col2\" >0.000000</td>\n",
              "      <td id=\"T_bb679_row1_col3\" class=\"data row1 col3\" >-0.000000</td>\n",
              "      <td id=\"T_bb679_row1_col4\" class=\"data row1 col4\" >0.000000</td>\n",
              "      <td id=\"T_bb679_row1_col5\" class=\"data row1 col5\" >0.000000</td>\n",
              "      <td id=\"T_bb679_row1_col6\" class=\"data row1 col6\" >0.000000</td>\n",
              "      <td id=\"T_bb679_row1_col7\" class=\"data row1 col7\" >-0.000000</td>\n",
              "      <td id=\"T_bb679_row1_col8\" class=\"data row1 col8\" >0.000000</td>\n",
              "      <td id=\"T_bb679_row1_col9\" class=\"data row1 col9\" >-0.000000</td>\n",
              "      <td id=\"T_bb679_row1_col10\" class=\"data row1 col10\" >0.000000</td>\n",
              "      <td id=\"T_bb679_row1_col11\" class=\"data row1 col11\" >0.000000</td>\n",
              "      <td id=\"T_bb679_row1_col12\" class=\"data row1 col12\" >-0.000000</td>\n",
              "      <td id=\"T_bb679_row1_col13\" class=\"data row1 col13\" >0.000000</td>\n",
              "      <td id=\"T_bb679_row1_col14\" class=\"data row1 col14\" >0.000000</td>\n",
              "      <td id=\"T_bb679_row1_col15\" class=\"data row1 col15\" >0.000000</td>\n",
              "      <td id=\"T_bb679_row1_col16\" class=\"data row1 col16\" >0.000000</td>\n",
              "      <td id=\"T_bb679_row1_col17\" class=\"data row1 col17\" >-0.000000</td>\n",
              "      <td id=\"T_bb679_row1_col18\" class=\"data row1 col18\" >0.000000</td>\n",
              "      <td id=\"T_bb679_row1_col19\" class=\"data row1 col19\" >0.000000</td>\n",
              "      <td id=\"T_bb679_row1_col20\" class=\"data row1 col20\" >0.000000</td>\n",
              "      <td id=\"T_bb679_row1_col21\" class=\"data row1 col21\" >0.000000</td>\n",
              "      <td id=\"T_bb679_row1_col22\" class=\"data row1 col22\" >-0.000000</td>\n",
              "      <td id=\"T_bb679_row1_col23\" class=\"data row1 col23\" >0.000000</td>\n",
              "      <td id=\"T_bb679_row1_col24\" class=\"data row1 col24\" >0.000000</td>\n",
              "      <td id=\"T_bb679_row1_col25\" class=\"data row1 col25\" >0.000000</td>\n",
              "      <td id=\"T_bb679_row1_col26\" class=\"data row1 col26\" >0.000000</td>\n",
              "      <td id=\"T_bb679_row1_col27\" class=\"data row1 col27\" >-0.000000</td>\n",
              "      <td id=\"T_bb679_row1_col28\" class=\"data row1 col28\" >-0.000000</td>\n",
              "      <td id=\"T_bb679_row1_col29\" class=\"data row1 col29\" >88.350000</td>\n",
              "      <td id=\"T_bb679_row1_col30\" class=\"data row1 col30\" >0.000000</td>\n",
              "    </tr>\n",
              "    <tr>\n",
              "      <th id=\"T_bb679_level0_row2\" class=\"row_heading level0 row2\" >std</th>\n",
              "      <td id=\"T_bb679_row2_col0\" class=\"data row2 col0\" >47488.150000</td>\n",
              "      <td id=\"T_bb679_row2_col1\" class=\"data row2 col1\" >1.960000</td>\n",
              "      <td id=\"T_bb679_row2_col2\" class=\"data row2 col2\" >1.650000</td>\n",
              "      <td id=\"T_bb679_row2_col3\" class=\"data row2 col3\" >1.520000</td>\n",
              "      <td id=\"T_bb679_row2_col4\" class=\"data row2 col4\" >1.420000</td>\n",
              "      <td id=\"T_bb679_row2_col5\" class=\"data row2 col5\" >1.380000</td>\n",
              "      <td id=\"T_bb679_row2_col6\" class=\"data row2 col6\" >1.330000</td>\n",
              "      <td id=\"T_bb679_row2_col7\" class=\"data row2 col7\" >1.240000</td>\n",
              "      <td id=\"T_bb679_row2_col8\" class=\"data row2 col8\" >1.190000</td>\n",
              "      <td id=\"T_bb679_row2_col9\" class=\"data row2 col9\" >1.100000</td>\n",
              "      <td id=\"T_bb679_row2_col10\" class=\"data row2 col10\" >1.090000</td>\n",
              "      <td id=\"T_bb679_row2_col11\" class=\"data row2 col11\" >1.020000</td>\n",
              "      <td id=\"T_bb679_row2_col12\" class=\"data row2 col12\" >1.000000</td>\n",
              "      <td id=\"T_bb679_row2_col13\" class=\"data row2 col13\" >1.000000</td>\n",
              "      <td id=\"T_bb679_row2_col14\" class=\"data row2 col14\" >0.960000</td>\n",
              "      <td id=\"T_bb679_row2_col15\" class=\"data row2 col15\" >0.920000</td>\n",
              "      <td id=\"T_bb679_row2_col16\" class=\"data row2 col16\" >0.880000</td>\n",
              "      <td id=\"T_bb679_row2_col17\" class=\"data row2 col17\" >0.850000</td>\n",
              "      <td id=\"T_bb679_row2_col18\" class=\"data row2 col18\" >0.840000</td>\n",
              "      <td id=\"T_bb679_row2_col19\" class=\"data row2 col19\" >0.810000</td>\n",
              "      <td id=\"T_bb679_row2_col20\" class=\"data row2 col20\" >0.770000</td>\n",
              "      <td id=\"T_bb679_row2_col21\" class=\"data row2 col21\" >0.730000</td>\n",
              "      <td id=\"T_bb679_row2_col22\" class=\"data row2 col22\" >0.730000</td>\n",
              "      <td id=\"T_bb679_row2_col23\" class=\"data row2 col23\" >0.620000</td>\n",
              "      <td id=\"T_bb679_row2_col24\" class=\"data row2 col24\" >0.610000</td>\n",
              "      <td id=\"T_bb679_row2_col25\" class=\"data row2 col25\" >0.520000</td>\n",
              "      <td id=\"T_bb679_row2_col26\" class=\"data row2 col26\" >0.480000</td>\n",
              "      <td id=\"T_bb679_row2_col27\" class=\"data row2 col27\" >0.400000</td>\n",
              "      <td id=\"T_bb679_row2_col28\" class=\"data row2 col28\" >0.330000</td>\n",
              "      <td id=\"T_bb679_row2_col29\" class=\"data row2 col29\" >250.120000</td>\n",
              "      <td id=\"T_bb679_row2_col30\" class=\"data row2 col30\" >0.040000</td>\n",
              "    </tr>\n",
              "    <tr>\n",
              "      <th id=\"T_bb679_level0_row3\" class=\"row_heading level0 row3\" >min</th>\n",
              "      <td id=\"T_bb679_row3_col0\" class=\"data row3 col0\" >0.000000</td>\n",
              "      <td id=\"T_bb679_row3_col1\" class=\"data row3 col1\" >-56.410000</td>\n",
              "      <td id=\"T_bb679_row3_col2\" class=\"data row3 col2\" >-72.720000</td>\n",
              "      <td id=\"T_bb679_row3_col3\" class=\"data row3 col3\" >-48.330000</td>\n",
              "      <td id=\"T_bb679_row3_col4\" class=\"data row3 col4\" >-5.680000</td>\n",
              "      <td id=\"T_bb679_row3_col5\" class=\"data row3 col5\" >-113.740000</td>\n",
              "      <td id=\"T_bb679_row3_col6\" class=\"data row3 col6\" >-26.160000</td>\n",
              "      <td id=\"T_bb679_row3_col7\" class=\"data row3 col7\" >-43.560000</td>\n",
              "      <td id=\"T_bb679_row3_col8\" class=\"data row3 col8\" >-73.220000</td>\n",
              "      <td id=\"T_bb679_row3_col9\" class=\"data row3 col9\" >-13.430000</td>\n",
              "      <td id=\"T_bb679_row3_col10\" class=\"data row3 col10\" >-24.590000</td>\n",
              "      <td id=\"T_bb679_row3_col11\" class=\"data row3 col11\" >-4.800000</td>\n",
              "      <td id=\"T_bb679_row3_col12\" class=\"data row3 col12\" >-18.680000</td>\n",
              "      <td id=\"T_bb679_row3_col13\" class=\"data row3 col13\" >-5.790000</td>\n",
              "      <td id=\"T_bb679_row3_col14\" class=\"data row3 col14\" >-19.210000</td>\n",
              "      <td id=\"T_bb679_row3_col15\" class=\"data row3 col15\" >-4.500000</td>\n",
              "      <td id=\"T_bb679_row3_col16\" class=\"data row3 col16\" >-14.130000</td>\n",
              "      <td id=\"T_bb679_row3_col17\" class=\"data row3 col17\" >-25.160000</td>\n",
              "      <td id=\"T_bb679_row3_col18\" class=\"data row3 col18\" >-9.500000</td>\n",
              "      <td id=\"T_bb679_row3_col19\" class=\"data row3 col19\" >-7.210000</td>\n",
              "      <td id=\"T_bb679_row3_col20\" class=\"data row3 col20\" >-54.500000</td>\n",
              "      <td id=\"T_bb679_row3_col21\" class=\"data row3 col21\" >-34.830000</td>\n",
              "      <td id=\"T_bb679_row3_col22\" class=\"data row3 col22\" >-10.930000</td>\n",
              "      <td id=\"T_bb679_row3_col23\" class=\"data row3 col23\" >-44.810000</td>\n",
              "      <td id=\"T_bb679_row3_col24\" class=\"data row3 col24\" >-2.840000</td>\n",
              "      <td id=\"T_bb679_row3_col25\" class=\"data row3 col25\" >-10.300000</td>\n",
              "      <td id=\"T_bb679_row3_col26\" class=\"data row3 col26\" >-2.600000</td>\n",
              "      <td id=\"T_bb679_row3_col27\" class=\"data row3 col27\" >-22.570000</td>\n",
              "      <td id=\"T_bb679_row3_col28\" class=\"data row3 col28\" >-15.430000</td>\n",
              "      <td id=\"T_bb679_row3_col29\" class=\"data row3 col29\" >0.000000</td>\n",
              "      <td id=\"T_bb679_row3_col30\" class=\"data row3 col30\" >0.000000</td>\n",
              "    </tr>\n",
              "    <tr>\n",
              "      <th id=\"T_bb679_level0_row4\" class=\"row_heading level0 row4\" >25%</th>\n",
              "      <td id=\"T_bb679_row4_col0\" class=\"data row4 col0\" >54201.500000</td>\n",
              "      <td id=\"T_bb679_row4_col1\" class=\"data row4 col1\" >-0.920000</td>\n",
              "      <td id=\"T_bb679_row4_col2\" class=\"data row4 col2\" >-0.600000</td>\n",
              "      <td id=\"T_bb679_row4_col3\" class=\"data row4 col3\" >-0.890000</td>\n",
              "      <td id=\"T_bb679_row4_col4\" class=\"data row4 col4\" >-0.850000</td>\n",
              "      <td id=\"T_bb679_row4_col5\" class=\"data row4 col5\" >-0.690000</td>\n",
              "      <td id=\"T_bb679_row4_col6\" class=\"data row4 col6\" >-0.770000</td>\n",
              "      <td id=\"T_bb679_row4_col7\" class=\"data row4 col7\" >-0.550000</td>\n",
              "      <td id=\"T_bb679_row4_col8\" class=\"data row4 col8\" >-0.210000</td>\n",
              "      <td id=\"T_bb679_row4_col9\" class=\"data row4 col9\" >-0.640000</td>\n",
              "      <td id=\"T_bb679_row4_col10\" class=\"data row4 col10\" >-0.540000</td>\n",
              "      <td id=\"T_bb679_row4_col11\" class=\"data row4 col11\" >-0.760000</td>\n",
              "      <td id=\"T_bb679_row4_col12\" class=\"data row4 col12\" >-0.410000</td>\n",
              "      <td id=\"T_bb679_row4_col13\" class=\"data row4 col13\" >-0.650000</td>\n",
              "      <td id=\"T_bb679_row4_col14\" class=\"data row4 col14\" >-0.430000</td>\n",
              "      <td id=\"T_bb679_row4_col15\" class=\"data row4 col15\" >-0.580000</td>\n",
              "      <td id=\"T_bb679_row4_col16\" class=\"data row4 col16\" >-0.470000</td>\n",
              "      <td id=\"T_bb679_row4_col17\" class=\"data row4 col17\" >-0.480000</td>\n",
              "      <td id=\"T_bb679_row4_col18\" class=\"data row4 col18\" >-0.500000</td>\n",
              "      <td id=\"T_bb679_row4_col19\" class=\"data row4 col19\" >-0.460000</td>\n",
              "      <td id=\"T_bb679_row4_col20\" class=\"data row4 col20\" >-0.210000</td>\n",
              "      <td id=\"T_bb679_row4_col21\" class=\"data row4 col21\" >-0.230000</td>\n",
              "      <td id=\"T_bb679_row4_col22\" class=\"data row4 col22\" >-0.540000</td>\n",
              "      <td id=\"T_bb679_row4_col23\" class=\"data row4 col23\" >-0.160000</td>\n",
              "      <td id=\"T_bb679_row4_col24\" class=\"data row4 col24\" >-0.350000</td>\n",
              "      <td id=\"T_bb679_row4_col25\" class=\"data row4 col25\" >-0.320000</td>\n",
              "      <td id=\"T_bb679_row4_col26\" class=\"data row4 col26\" >-0.330000</td>\n",
              "      <td id=\"T_bb679_row4_col27\" class=\"data row4 col27\" >-0.070000</td>\n",
              "      <td id=\"T_bb679_row4_col28\" class=\"data row4 col28\" >-0.050000</td>\n",
              "      <td id=\"T_bb679_row4_col29\" class=\"data row4 col29\" >5.600000</td>\n",
              "      <td id=\"T_bb679_row4_col30\" class=\"data row4 col30\" >0.000000</td>\n",
              "    </tr>\n",
              "    <tr>\n",
              "      <th id=\"T_bb679_level0_row5\" class=\"row_heading level0 row5\" >50%</th>\n",
              "      <td id=\"T_bb679_row5_col0\" class=\"data row5 col0\" >84692.000000</td>\n",
              "      <td id=\"T_bb679_row5_col1\" class=\"data row5 col1\" >0.020000</td>\n",
              "      <td id=\"T_bb679_row5_col2\" class=\"data row5 col2\" >0.070000</td>\n",
              "      <td id=\"T_bb679_row5_col3\" class=\"data row5 col3\" >0.180000</td>\n",
              "      <td id=\"T_bb679_row5_col4\" class=\"data row5 col4\" >-0.020000</td>\n",
              "      <td id=\"T_bb679_row5_col5\" class=\"data row5 col5\" >-0.050000</td>\n",
              "      <td id=\"T_bb679_row5_col6\" class=\"data row5 col6\" >-0.270000</td>\n",
              "      <td id=\"T_bb679_row5_col7\" class=\"data row5 col7\" >0.040000</td>\n",
              "      <td id=\"T_bb679_row5_col8\" class=\"data row5 col8\" >0.020000</td>\n",
              "      <td id=\"T_bb679_row5_col9\" class=\"data row5 col9\" >-0.050000</td>\n",
              "      <td id=\"T_bb679_row5_col10\" class=\"data row5 col10\" >-0.090000</td>\n",
              "      <td id=\"T_bb679_row5_col11\" class=\"data row5 col11\" >-0.030000</td>\n",
              "      <td id=\"T_bb679_row5_col12\" class=\"data row5 col12\" >0.140000</td>\n",
              "      <td id=\"T_bb679_row5_col13\" class=\"data row5 col13\" >-0.010000</td>\n",
              "      <td id=\"T_bb679_row5_col14\" class=\"data row5 col14\" >0.050000</td>\n",
              "      <td id=\"T_bb679_row5_col15\" class=\"data row5 col15\" >0.050000</td>\n",
              "      <td id=\"T_bb679_row5_col16\" class=\"data row5 col16\" >0.070000</td>\n",
              "      <td id=\"T_bb679_row5_col17\" class=\"data row5 col17\" >-0.070000</td>\n",
              "      <td id=\"T_bb679_row5_col18\" class=\"data row5 col18\" >-0.000000</td>\n",
              "      <td id=\"T_bb679_row5_col19\" class=\"data row5 col19\" >0.000000</td>\n",
              "      <td id=\"T_bb679_row5_col20\" class=\"data row5 col20\" >-0.060000</td>\n",
              "      <td id=\"T_bb679_row5_col21\" class=\"data row5 col21\" >-0.030000</td>\n",
              "      <td id=\"T_bb679_row5_col22\" class=\"data row5 col22\" >0.010000</td>\n",
              "      <td id=\"T_bb679_row5_col23\" class=\"data row5 col23\" >-0.010000</td>\n",
              "      <td id=\"T_bb679_row5_col24\" class=\"data row5 col24\" >0.040000</td>\n",
              "      <td id=\"T_bb679_row5_col25\" class=\"data row5 col25\" >0.020000</td>\n",
              "      <td id=\"T_bb679_row5_col26\" class=\"data row5 col26\" >-0.050000</td>\n",
              "      <td id=\"T_bb679_row5_col27\" class=\"data row5 col27\" >0.000000</td>\n",
              "      <td id=\"T_bb679_row5_col28\" class=\"data row5 col28\" >0.010000</td>\n",
              "      <td id=\"T_bb679_row5_col29\" class=\"data row5 col29\" >22.000000</td>\n",
              "      <td id=\"T_bb679_row5_col30\" class=\"data row5 col30\" >0.000000</td>\n",
              "    </tr>\n",
              "    <tr>\n",
              "      <th id=\"T_bb679_level0_row6\" class=\"row_heading level0 row6\" >75%</th>\n",
              "      <td id=\"T_bb679_row6_col0\" class=\"data row6 col0\" >139320.500000</td>\n",
              "      <td id=\"T_bb679_row6_col1\" class=\"data row6 col1\" >1.320000</td>\n",
              "      <td id=\"T_bb679_row6_col2\" class=\"data row6 col2\" >0.800000</td>\n",
              "      <td id=\"T_bb679_row6_col3\" class=\"data row6 col3\" >1.030000</td>\n",
              "      <td id=\"T_bb679_row6_col4\" class=\"data row6 col4\" >0.740000</td>\n",
              "      <td id=\"T_bb679_row6_col5\" class=\"data row6 col5\" >0.610000</td>\n",
              "      <td id=\"T_bb679_row6_col6\" class=\"data row6 col6\" >0.400000</td>\n",
              "      <td id=\"T_bb679_row6_col7\" class=\"data row6 col7\" >0.570000</td>\n",
              "      <td id=\"T_bb679_row6_col8\" class=\"data row6 col8\" >0.330000</td>\n",
              "      <td id=\"T_bb679_row6_col9\" class=\"data row6 col9\" >0.600000</td>\n",
              "      <td id=\"T_bb679_row6_col10\" class=\"data row6 col10\" >0.450000</td>\n",
              "      <td id=\"T_bb679_row6_col11\" class=\"data row6 col11\" >0.740000</td>\n",
              "      <td id=\"T_bb679_row6_col12\" class=\"data row6 col12\" >0.620000</td>\n",
              "      <td id=\"T_bb679_row6_col13\" class=\"data row6 col13\" >0.660000</td>\n",
              "      <td id=\"T_bb679_row6_col14\" class=\"data row6 col14\" >0.490000</td>\n",
              "      <td id=\"T_bb679_row6_col15\" class=\"data row6 col15\" >0.650000</td>\n",
              "      <td id=\"T_bb679_row6_col16\" class=\"data row6 col16\" >0.520000</td>\n",
              "      <td id=\"T_bb679_row6_col17\" class=\"data row6 col17\" >0.400000</td>\n",
              "      <td id=\"T_bb679_row6_col18\" class=\"data row6 col18\" >0.500000</td>\n",
              "      <td id=\"T_bb679_row6_col19\" class=\"data row6 col19\" >0.460000</td>\n",
              "      <td id=\"T_bb679_row6_col20\" class=\"data row6 col20\" >0.130000</td>\n",
              "      <td id=\"T_bb679_row6_col21\" class=\"data row6 col21\" >0.190000</td>\n",
              "      <td id=\"T_bb679_row6_col22\" class=\"data row6 col22\" >0.530000</td>\n",
              "      <td id=\"T_bb679_row6_col23\" class=\"data row6 col23\" >0.150000</td>\n",
              "      <td id=\"T_bb679_row6_col24\" class=\"data row6 col24\" >0.440000</td>\n",
              "      <td id=\"T_bb679_row6_col25\" class=\"data row6 col25\" >0.350000</td>\n",
              "      <td id=\"T_bb679_row6_col26\" class=\"data row6 col26\" >0.240000</td>\n",
              "      <td id=\"T_bb679_row6_col27\" class=\"data row6 col27\" >0.090000</td>\n",
              "      <td id=\"T_bb679_row6_col28\" class=\"data row6 col28\" >0.080000</td>\n",
              "      <td id=\"T_bb679_row6_col29\" class=\"data row6 col29\" >77.160000</td>\n",
              "      <td id=\"T_bb679_row6_col30\" class=\"data row6 col30\" >0.000000</td>\n",
              "    </tr>\n",
              "    <tr>\n",
              "      <th id=\"T_bb679_level0_row7\" class=\"row_heading level0 row7\" >max</th>\n",
              "      <td id=\"T_bb679_row7_col0\" class=\"data row7 col0\" >172792.000000</td>\n",
              "      <td id=\"T_bb679_row7_col1\" class=\"data row7 col1\" >2.450000</td>\n",
              "      <td id=\"T_bb679_row7_col2\" class=\"data row7 col2\" >22.060000</td>\n",
              "      <td id=\"T_bb679_row7_col3\" class=\"data row7 col3\" >9.380000</td>\n",
              "      <td id=\"T_bb679_row7_col4\" class=\"data row7 col4\" >16.880000</td>\n",
              "      <td id=\"T_bb679_row7_col5\" class=\"data row7 col5\" >34.800000</td>\n",
              "      <td id=\"T_bb679_row7_col6\" class=\"data row7 col6\" >73.300000</td>\n",
              "      <td id=\"T_bb679_row7_col7\" class=\"data row7 col7\" >120.590000</td>\n",
              "      <td id=\"T_bb679_row7_col8\" class=\"data row7 col8\" >20.010000</td>\n",
              "      <td id=\"T_bb679_row7_col9\" class=\"data row7 col9\" >15.590000</td>\n",
              "      <td id=\"T_bb679_row7_col10\" class=\"data row7 col10\" >23.750000</td>\n",
              "      <td id=\"T_bb679_row7_col11\" class=\"data row7 col11\" >12.020000</td>\n",
              "      <td id=\"T_bb679_row7_col12\" class=\"data row7 col12\" >7.850000</td>\n",
              "      <td id=\"T_bb679_row7_col13\" class=\"data row7 col13\" >7.130000</td>\n",
              "      <td id=\"T_bb679_row7_col14\" class=\"data row7 col14\" >10.530000</td>\n",
              "      <td id=\"T_bb679_row7_col15\" class=\"data row7 col15\" >8.880000</td>\n",
              "      <td id=\"T_bb679_row7_col16\" class=\"data row7 col16\" >17.320000</td>\n",
              "      <td id=\"T_bb679_row7_col17\" class=\"data row7 col17\" >9.250000</td>\n",
              "      <td id=\"T_bb679_row7_col18\" class=\"data row7 col18\" >5.040000</td>\n",
              "      <td id=\"T_bb679_row7_col19\" class=\"data row7 col19\" >5.590000</td>\n",
              "      <td id=\"T_bb679_row7_col20\" class=\"data row7 col20\" >39.420000</td>\n",
              "      <td id=\"T_bb679_row7_col21\" class=\"data row7 col21\" >27.200000</td>\n",
              "      <td id=\"T_bb679_row7_col22\" class=\"data row7 col22\" >10.500000</td>\n",
              "      <td id=\"T_bb679_row7_col23\" class=\"data row7 col23\" >22.530000</td>\n",
              "      <td id=\"T_bb679_row7_col24\" class=\"data row7 col24\" >4.580000</td>\n",
              "      <td id=\"T_bb679_row7_col25\" class=\"data row7 col25\" >7.520000</td>\n",
              "      <td id=\"T_bb679_row7_col26\" class=\"data row7 col26\" >3.520000</td>\n",
              "      <td id=\"T_bb679_row7_col27\" class=\"data row7 col27\" >31.610000</td>\n",
              "      <td id=\"T_bb679_row7_col28\" class=\"data row7 col28\" >33.850000</td>\n",
              "      <td id=\"T_bb679_row7_col29\" class=\"data row7 col29\" >25691.160000</td>\n",
              "      <td id=\"T_bb679_row7_col30\" class=\"data row7 col30\" >1.000000</td>\n",
              "    </tr>\n",
              "  </tbody>\n",
              "</table>\n"
            ]
          },
          "metadata": {},
          "execution_count": 107
        }
      ]
    },
    {
      "cell_type": "code",
      "source": [
        "data.isnull().sum()"
      ],
      "metadata": {
        "execution": {
          "iopub.execute_input": "2022-10-06T19:01:27.151621Z",
          "iopub.status.busy": "2022-10-06T19:01:27.151206Z",
          "iopub.status.idle": "2022-10-06T19:01:27.178735Z",
          "shell.execute_reply": "2022-10-06T19:01:27.177466Z"
        },
        "papermill": {
          "duration": 0.059314,
          "end_time": "2022-10-06T19:01:27.18119",
          "exception": false,
          "start_time": "2022-10-06T19:01:27.121876",
          "status": "completed"
        },
        "tags": [],
        "id": "qRGYTreGj8Tk",
        "colab": {
          "base_uri": "https://localhost:8080/"
        },
        "outputId": "3250a6ec-bdaf-45af-c3fe-6f4c23dba054"
      },
      "execution_count": 108,
      "outputs": [
        {
          "output_type": "execute_result",
          "data": {
            "text/plain": [
              "Time      0\n",
              "V1        0\n",
              "V2        0\n",
              "V3        0\n",
              "V4        0\n",
              "V5        0\n",
              "V6        0\n",
              "V7        0\n",
              "V8        0\n",
              "V9        0\n",
              "V10       0\n",
              "V11       0\n",
              "V12       0\n",
              "V13       0\n",
              "V14       0\n",
              "V15       0\n",
              "V16       0\n",
              "V17       0\n",
              "V18       0\n",
              "V19       0\n",
              "V20       0\n",
              "V21       0\n",
              "V22       0\n",
              "V23       0\n",
              "V24       0\n",
              "V25       0\n",
              "V26       0\n",
              "V27       0\n",
              "V28       0\n",
              "Amount    0\n",
              "Class     0\n",
              "dtype: int64"
            ]
          },
          "metadata": {},
          "execution_count": 108
        }
      ]
    },
    {
      "cell_type": "code",
      "source": [
        "data.duplicated().sum()"
      ],
      "metadata": {
        "execution": {
          "iopub.execute_input": "2022-10-06T19:01:27.237797Z",
          "iopub.status.busy": "2022-10-06T19:01:27.236971Z",
          "iopub.status.idle": "2022-10-06T19:01:28.386199Z",
          "shell.execute_reply": "2022-10-06T19:01:28.38507Z"
        },
        "papermill": {
          "duration": 1.180298,
          "end_time": "2022-10-06T19:01:28.388602",
          "exception": false,
          "start_time": "2022-10-06T19:01:27.208304",
          "status": "completed"
        },
        "tags": [],
        "id": "7EvR9ohGj8Tk",
        "colab": {
          "base_uri": "https://localhost:8080/"
        },
        "outputId": "9bb6e065-0afa-41d7-b51b-deb1b7d72a85"
      },
      "execution_count": 109,
      "outputs": [
        {
          "output_type": "execute_result",
          "data": {
            "text/plain": [
              "1081"
            ]
          },
          "metadata": {},
          "execution_count": 109
        }
      ]
    },
    {
      "cell_type": "code",
      "source": [
        "data = data.drop_duplicates()"
      ],
      "metadata": {
        "execution": {
          "iopub.execute_input": "2022-10-06T19:01:28.4984Z",
          "iopub.status.busy": "2022-10-06T19:01:28.49758Z",
          "iopub.status.idle": "2022-10-06T19:01:29.646767Z",
          "shell.execute_reply": "2022-10-06T19:01:29.645517Z"
        },
        "papermill": {
          "duration": 1.180928,
          "end_time": "2022-10-06T19:01:29.6498",
          "exception": false,
          "start_time": "2022-10-06T19:01:28.468872",
          "status": "completed"
        },
        "tags": [],
        "id": "jM0R-x2Gj8Tl"
      },
      "execution_count": 110,
      "outputs": []
    },
    {
      "cell_type": "code",
      "source": [
        "data.duplicated().sum()"
      ],
      "metadata": {
        "execution": {
          "iopub.execute_input": "2022-10-06T19:01:29.706099Z",
          "iopub.status.busy": "2022-10-06T19:01:29.705151Z",
          "iopub.status.idle": "2022-10-06T19:01:30.848693Z",
          "shell.execute_reply": "2022-10-06T19:01:30.847421Z"
        },
        "papermill": {
          "duration": 1.17451,
          "end_time": "2022-10-06T19:01:30.851207",
          "exception": false,
          "start_time": "2022-10-06T19:01:29.676697",
          "status": "completed"
        },
        "tags": [],
        "id": "p0wa1RSxj8Tl",
        "colab": {
          "base_uri": "https://localhost:8080/"
        },
        "outputId": "99abf299-ad7b-4dde-c6d1-f5be6f06bfad"
      },
      "execution_count": 111,
      "outputs": [
        {
          "output_type": "execute_result",
          "data": {
            "text/plain": [
              "0"
            ]
          },
          "metadata": {},
          "execution_count": 111
        }
      ]
    },
    {
      "cell_type": "code",
      "source": [
        "sns.countplot(x='Class',data=data)"
      ],
      "metadata": {
        "execution": {
          "iopub.execute_input": "2022-10-06T19:01:30.908653Z",
          "iopub.status.busy": "2022-10-06T19:01:30.908231Z",
          "iopub.status.idle": "2022-10-06T19:01:31.097052Z",
          "shell.execute_reply": "2022-10-06T19:01:31.095906Z"
        },
        "papermill": {
          "duration": 0.220811,
          "end_time": "2022-10-06T19:01:31.0999",
          "exception": false,
          "start_time": "2022-10-06T19:01:30.879089",
          "status": "completed"
        },
        "tags": [],
        "id": "8mPMk5HIj8Tm",
        "colab": {
          "base_uri": "https://localhost:8080/",
          "height": 405
        },
        "outputId": "5c4cb3fe-816a-4eb3-d9fb-05aab9fd1e23"
      },
      "execution_count": 112,
      "outputs": [
        {
          "output_type": "execute_result",
          "data": {
            "text/plain": [
              "<matplotlib.axes._subplots.AxesSubplot at 0x7f3e83f08050>"
            ]
          },
          "metadata": {},
          "execution_count": 112
        },
        {
          "output_type": "display_data",
          "data": {
            "text/plain": [
              "<Figure size 1008x432 with 1 Axes>"
            ],
            "image/png": "[encoded data removed]"
          },
          "metadata": {
            "needs_background": "light"
          }
        }
      ]
    },
    {
      "cell_type": "code",
      "source": [
        "lis=[\"Not Fraud\",\"Frauds\"]\n",
        "fraud_or_not = data[\"Class\"].value_counts().tolist()\n",
        "values = [fraud_or_not[0], fraud_or_not[1]]\n",
        "fig = px.pie(values=data['Class'].value_counts(), names=lis , width=600, height=350)\n",
        "fig.show()"
      ],
      "metadata": {
        "execution": {
          "iopub.execute_input": "2022-10-06T19:01:31.159631Z",
          "iopub.status.busy": "2022-10-06T19:01:31.159163Z",
          "iopub.status.idle": "2022-10-06T19:01:32.365202Z",
          "shell.execute_reply": "2022-10-06T19:01:32.363771Z"
        },
        "papermill": {
          "duration": 1.238321,
          "end_time": "2022-10-06T19:01:32.367883",
          "exception": false,
          "start_time": "2022-10-06T19:01:31.129562",
          "status": "completed"
        },
        "tags": [],
        "id": "2AiB6f8xj8Tm",
        "colab": {
          "base_uri": "https://localhost:8080/",
          "height": 367
        },
        "outputId": "446ce554-bf7e-46ef-8f6e-a243d39f0dd2"
      },
      "execution_count": 113,
      "outputs": [
        {
          "output_type": "display_data",
          "data": {
            "text/html": [
              "<html>\n",
              "<head><meta charset=\"utf-8\" /></head>\n",
              "<body>\n",
              "    <div>            <script src=\"https://cdnjs.cloudflare.com/ajax/libs/mathjax/2.7.5/MathJax.js?config=TeX-AMS-MML_SVG\"></script><script type=\"text/javascript\">if (window.MathJax) {MathJax.Hub.Config({SVG: {font: \"STIX-Web\"}});}</script>                <script type=\"text/javascript\">window.PlotlyConfig = {MathJaxConfig: 'local'};</script>\n",
              "        <script src=\"https://cdn.plot.ly/plotly-2.8.3.min.js\"></script>                <div id=\"6866176c-7db1-4bc6-b2f0-0281abdd3ed4\" class=\"plotly-graph-div\" style=\"height:350px; width:600px;\"></div>            <script type=\"text/javascript\">                                    window.PLOTLYENV=window.PLOTLYENV || {};                                    if (document.getElementById(\"6866176c-7db1-4bc6-b2f0-0281abdd3ed4\")) {                    Plotly.newPlot(                        \"6866176c-7db1-4bc6-b2f0-0281abdd3ed4\",                        [{\"domain\":{\"x\":[0.0,1.0],\"y\":[0.0,1.0]},\"hovertemplate\":\"label=%{label}<br>value=%{value}<extra></extra>\",\"labels\":[\"Not Fraud\",\"Frauds\"],\"legendgroup\":\"\",\"name\":\"\",\"showlegend\":true,\"values\":[283253,473],\"type\":\"pie\"}],                        {\"template\":{\"data\":{\"bar\":[{\"error_x\":{\"color\":\"#2a3f5f\"},\"error_y\":{\"color\":\"#2a3f5f\"},\"marker\":{\"line\":{\"color\":\"#E5ECF6\",\"width\":0.5},\"pattern\":{\"fillmode\":\"overlay\",\"size\":10,\"solidity\":0.2}},\"type\":\"bar\"}],\"barpolar\":[{\"marker\":{\"line\":{\"color\":\"#E5ECF6\",\"width\":0.5},\"pattern\":{\"fillmode\":\"overlay\",\"size\":10,\"solidity\":0.2}},\"type\":\"barpolar\"}],\"carpet\":[{\"aaxis\":{\"endlinecolor\":\"#2a3f5f\",\"gridcolor\":\"white\",\"linecolor\":\"white\",\"minorgridcolor\":\"white\",\"startlinecolor\":\"#2a3f5f\"},\"baxis\":{\"endlinecolor\":\"#2a3f5f\",\"gridcolor\":\"white\",\"linecolor\":\"white\",\"minorgridcolor\":\"white\",\"startlinecolor\":\"#2a3f5f\"},\"type\":\"carpet\"}],\"choropleth\":[{\"colorbar\":{\"outlinewidth\":0,\"ticks\":\"\"},\"type\":\"choropleth\"}],\"contour\":[{\"colorbar\":{\"outlinewidth\":0,\"ticks\":\"\"},\"colorscale\":[[0.0,\"#0d0887\"],[0.1111111111111111,\"#46039f\"],[0.2222222222222222,\"#7201a8\"],[0.3333333333333333,\"#9c179e\"],[0.4444444444444444,\"#bd3786\"],[0.5555555555555556,\"#d8576b\"],[0.6666666666666666,\"#ed7953\"],[0.7777777777777778,\"#fb9f3a\"],[0.8888888888888888,\"#fdca26\"],[1.0,\"#f0f921\"]],\"type\":\"contour\"}],\"contourcarpet\":[{\"colorbar\":{\"outlinewidth\":0,\"ticks\":\"\"},\"type\":\"contourcarpet\"}],\"heatmap\":[{\"colorbar\":{\"outlinewidth\":0,\"ticks\":\"\"},\"colorscale\":[[0.0,\"#0d0887\"],[0.1111111111111111,\"#46039f\"],[0.2222222222222222,\"#7201a8\"],[0.3333333333333333,\"#9c179e\"],[0.4444444444444444,\"#bd3786\"],[0.5555555555555556,\"#d8576b\"],[0.6666666666666666,\"#ed7953\"],[0.7777777777777778,\"#fb9f3a\"],[0.8888888888888888,\"#fdca26\"],[1.0,\"#f0f921\"]],\"type\":\"heatmap\"}],\"heatmapgl\":[{\"colorbar\":{\"outlinewidth\":0,\"ticks\":\"\"},\"colorscale\":[[0.0,\"#0d0887\"],[0.1111111111111111,\"#46039f\"],[0.2222222222222222,\"#7201a8\"],[0.3333333333333333,\"#9c179e\"],[0.4444444444444444,\"#bd3786\"],[0.5555555555555556,\"#d8576b\"],[0.6666666666666666,\"#ed7953\"],[0.7777777777777778,\"#fb9f3a\"],[0.8888888888888888,\"#fdca26\"],[1.0,\"#f0f921\"]],\"type\":\"heatmapgl\"}],\"histogram\":[{\"marker\":{\"pattern\":{\"fillmode\":\"overlay\",\"size\":10,\"solidity\":0.2}},\"type\":\"histogram\"}],\"histogram2d\":[{\"colorbar\":{\"outlinewidth\":0,\"ticks\":\"\"},\"colorscale\":[[0.0,\"#0d0887\"],[0.1111111111111111,\"#46039f\"],[0.2222222222222222,\"#7201a8\"],[0.3333333333333333,\"#9c179e\"],[0.4444444444444444,\"#bd3786\"],[0.5555555555555556,\"#d8576b\"],[0.6666666666666666,\"#ed7953\"],[0.7777777777777778,\"#fb9f3a\"],[0.8888888888888888,\"#fdca26\"],[1.0,\"#f0f921\"]],\"type\":\"histogram2d\"}],\"histogram2dcontour\":[{\"colorbar\":{\"outlinewidth\":0,\"ticks\":\"\"},\"colorscale\":[[0.0,\"#0d0887\"],[0.1111111111111111,\"#46039f\"],[0.2222222222222222,\"#7201a8\"],[0.3333333333333333,\"#9c179e\"],[0.4444444444444444,\"#bd3786\"],[0.5555555555555556,\"#d8576b\"],[0.6666666666666666,\"#ed7953\"],[0.7777777777777778,\"#fb9f3a\"],[0.8888888888888888,\"#fdca26\"],[1.0,\"#f0f921\"]],\"type\":\"histogram2dcontour\"}],\"mesh3d\":[{\"colorbar\":{\"outlinewidth\":0,\"ticks\":\"\"},\"type\":\"mesh3d\"}],\"parcoords\":[{\"line\":{\"colorbar\":{\"outlinewidth\":0,\"ticks\":\"\"}},\"type\":\"parcoords\"}],\"pie\":[{\"automargin\":true,\"type\":\"pie\"}],\"scatter\":[{\"marker\":{\"colorbar\":{\"outlinewidth\":0,\"ticks\":\"\"}},\"type\":\"scatter\"}],\"scatter3d\":[{\"line\":{\"colorbar\":{\"outlinewidth\":0,\"ticks\":\"\"}},\"marker\":{\"colorbar\":{\"outlinewidth\":0,\"ticks\":\"\"}},\"type\":\"scatter3d\"}],\"scattercarpet\":[{\"marker\":{\"colorbar\":{\"outlinewidth\":0,\"ticks\":\"\"}},\"type\":\"scattercarpet\"}],\"scattergeo\":[{\"marker\":{\"colorbar\":{\"outlinewidth\":0,\"ticks\":\"\"}},\"type\":\"scattergeo\"}],\"scattergl\":[{\"marker\":{\"colorbar\":{\"outlinewidth\":0,\"ticks\":\"\"}},\"type\":\"scattergl\"}],\"scattermapbox\":[{\"marker\":{\"colorbar\":{\"outlinewidth\":0,\"ticks\":\"\"}},\"type\":\"scattermapbox\"}],\"scatterpolar\":[{\"marker\":{\"colorbar\":{\"outlinewidth\":0,\"ticks\":\"\"}},\"type\":\"scatterpolar\"}],\"scatterpolargl\":[{\"marker\":{\"colorbar\":{\"outlinewidth\":0,\"ticks\":\"\"}},\"type\":\"scatterpolargl\"}],\"scatterternary\":[{\"marker\":{\"colorbar\":{\"outlinewidth\":0,\"ticks\":\"\"}},\"type\":\"scatterternary\"}],\"surface\":[{\"colorbar\":{\"outlinewidth\":0,\"ticks\":\"\"},\"colorscale\":[[0.0,\"#0d0887\"],[0.1111111111111111,\"#46039f\"],[0.2222222222222222,\"#7201a8\"],[0.3333333333333333,\"#9c179e\"],[0.4444444444444444,\"#bd3786\"],[0.5555555555555556,\"#d8576b\"],[0.6666666666666666,\"#ed7953\"],[0.7777777777777778,\"#fb9f3a\"],[0.8888888888888888,\"#fdca26\"],[1.0,\"#f0f921\"]],\"type\":\"surface\"}],\"table\":[{\"cells\":{\"fill\":{\"color\":\"#EBF0F8\"},\"line\":{\"color\":\"white\"}},\"header\":{\"fill\":{\"color\":\"#C8D4E3\"},\"line\":{\"color\":\"white\"}},\"type\":\"table\"}]},\"layout\":{\"annotationdefaults\":{\"arrowcolor\":\"#2a3f5f\",\"arrowhead\":0,\"arrowwidth\":1},\"autotypenumbers\":\"strict\",\"coloraxis\":{\"colorbar\":{\"outlinewidth\":0,\"ticks\":\"\"}},\"colorscale\":{\"diverging\":[[0,\"#8e0152\"],[0.1,\"#c51b7d\"],[0.2,\"#de77ae\"],[0.3,\"#f1b6da\"],[0.4,\"#fde0ef\"],[0.5,\"#f7f7f7\"],[0.6,\"#e6f5d0\"],[0.7,\"#b8e186\"],[0.8,\"#7fbc41\"],[0.9,\"#4d9221\"],[1,\"#276419\"]],\"sequential\":[[0.0,\"#0d0887\"],[0.1111111111111111,\"#46039f\"],[0.2222222222222222,\"#7201a8\"],[0.3333333333333333,\"#9c179e\"],[0.4444444444444444,\"#bd3786\"],[0.5555555555555556,\"#d8576b\"],[0.6666666666666666,\"#ed7953\"],[0.7777777777777778,\"#fb9f3a\"],[0.8888888888888888,\"#fdca26\"],[1.0,\"#f0f921\"]],\"sequentialminus\":[[0.0,\"#0d0887\"],[0.1111111111111111,\"#46039f\"],[0.2222222222222222,\"#7201a8\"],[0.3333333333333333,\"#9c179e\"],[0.4444444444444444,\"#bd3786\"],[0.5555555555555556,\"#d8576b\"],[0.6666666666666666,\"#ed7953\"],[0.7777777777777778,\"#fb9f3a\"],[0.8888888888888888,\"#fdca26\"],[1.0,\"#f0f921\"]]},\"colorway\":[\"#636efa\",\"#EF553B\",\"#00cc96\",\"#ab63fa\",\"#FFA15A\",\"#19d3f3\",\"#FF6692\",\"#B6E880\",\"#FF97FF\",\"#FECB52\"],\"font\":{\"color\":\"#2a3f5f\"},\"geo\":{\"bgcolor\":\"white\",\"lakecolor\":\"white\",\"landcolor\":\"#E5ECF6\",\"showlakes\":true,\"showland\":true,\"subunitcolor\":\"white\"},\"hoverlabel\":{\"align\":\"left\"},\"hovermode\":\"closest\",\"mapbox\":{\"style\":\"light\"},\"paper_bgcolor\":\"white\",\"plot_bgcolor\":\"#E5ECF6\",\"polar\":{\"angularaxis\":{\"gridcolor\":\"white\",\"linecolor\":\"white\",\"ticks\":\"\"},\"bgcolor\":\"#E5ECF6\",\"radialaxis\":{\"gridcolor\":\"white\",\"linecolor\":\"white\",\"ticks\":\"\"}},\"scene\":{\"xaxis\":{\"backgroundcolor\":\"#E5ECF6\",\"gridcolor\":\"white\",\"gridwidth\":2,\"linecolor\":\"white\",\"showbackground\":true,\"ticks\":\"\",\"zerolinecolor\":\"white\"},\"yaxis\":{\"backgroundcolor\":\"#E5ECF6\",\"gridcolor\":\"white\",\"gridwidth\":2,\"linecolor\":\"white\",\"showbackground\":true,\"ticks\":\"\",\"zerolinecolor\":\"white\"},\"zaxis\":{\"backgroundcolor\":\"#E5ECF6\",\"gridcolor\":\"white\",\"gridwidth\":2,\"linecolor\":\"white\",\"showbackground\":true,\"ticks\":\"\",\"zerolinecolor\":\"white\"}},\"shapedefaults\":{\"line\":{\"color\":\"#2a3f5f\"}},\"ternary\":{\"aaxis\":{\"gridcolor\":\"white\",\"linecolor\":\"white\",\"ticks\":\"\"},\"baxis\":{\"gridcolor\":\"white\",\"linecolor\":\"white\",\"ticks\":\"\"},\"bgcolor\":\"#E5ECF6\",\"caxis\":{\"gridcolor\":\"white\",\"linecolor\":\"white\",\"ticks\":\"\"}},\"title\":{\"x\":0.05},\"xaxis\":{\"automargin\":true,\"gridcolor\":\"white\",\"linecolor\":\"white\",\"ticks\":\"\",\"title\":{\"standoff\":15},\"zerolinecolor\":\"white\",\"zerolinewidth\":2},\"yaxis\":{\"automargin\":true,\"gridcolor\":\"white\",\"linecolor\":\"white\",\"ticks\":\"\",\"title\":{\"standoff\":15},\"zerolinecolor\":\"white\",\"zerolinewidth\":2}}},\"legend\":{\"tracegroupgap\":0},\"margin\":{\"t\":60},\"height\":350,\"width\":600},                        {\"responsive\": true}                    ).then(function(){\n",
              "                            \n",
              "var gd = document.getElementById('6866176c-7db1-4bc6-b2f0-0281abdd3ed4');\n",
              "var x = new MutationObserver(function (mutations, observer) {{\n",
              "        var display = window.getComputedStyle(gd).display;\n",
              "        if (!display || display === 'none') {{\n",
              "            console.log([gd, 'removed!']);\n",
              "            Plotly.purge(gd);\n",
              "            observer.disconnect();\n",
              "        }}\n",
              "}});\n",
              "\n",
              "// Listen for the removal of the full notebook cells\n",
              "var notebookContainer = gd.closest('#notebook-container');\n",
              "if (notebookContainer) {{\n",
              "    x.observe(notebookContainer, {childList: true});\n",
              "}}\n",
              "\n",
              "// Listen for the clearing of the current output cell\n",
              "var outputEl = gd.closest('.output');\n",
              "if (outputEl) {{\n",
              "    x.observe(outputEl, {childList: true});\n",
              "}}\n",
              "\n",
              "                        })                };                            </script>        </div>\n",
              "</body>\n",
              "</html>"
            ]
          },
          "metadata": {}
        }
      ]
    },
    {
      "cell_type": "markdown",
      "source": [
        "## Data Scaling"
      ],
      "metadata": {
        "papermill": {
          "duration": 0.034499,
          "end_time": "2022-10-06T19:01:46.659926",
          "exception": false,
          "start_time": "2022-10-06T19:01:46.625427",
          "status": "completed"
        },
        "tags": [],
        "id": "Mrflkk0aj8Tt"
      }
    },
    {
      "cell_type": "code",
      "source": [
        "from sklearn.preprocessing import StandardScaler"
      ],
      "metadata": {
        "execution": {
          "iopub.execute_input": "2022-10-06T19:01:46.799801Z",
          "iopub.status.busy": "2022-10-06T19:01:46.799409Z",
          "iopub.status.idle": "2022-10-06T19:01:46.80405Z",
          "shell.execute_reply": "2022-10-06T19:01:46.803063Z"
        },
        "papermill": {
          "duration": 0.042789,
          "end_time": "2022-10-06T19:01:46.806287",
          "exception": false,
          "start_time": "2022-10-06T19:01:46.763498",
          "status": "completed"
        },
        "tags": [],
        "id": "glEC7vKqj8Tt"
      },
      "execution_count": 114,
      "outputs": []
    },
    {
      "cell_type": "code",
      "source": [
        "std_scaler = StandardScaler()\n",
        "data['Scaled_Amount']=std_scaler.fit_transform(data['Amount'].values.reshape(-1,1))"
      ],
      "metadata": {
        "execution": {
          "iopub.execute_input": "2022-10-06T19:01:46.876915Z",
          "iopub.status.busy": "2022-10-06T19:01:46.876469Z",
          "iopub.status.idle": "2022-10-06T19:01:46.887019Z",
          "shell.execute_reply": "2022-10-06T19:01:46.885798Z"
        },
        "papermill": {
          "duration": 0.048958,
          "end_time": "2022-10-06T19:01:46.88968",
          "exception": false,
          "start_time": "2022-10-06T19:01:46.840722",
          "status": "completed"
        },
        "tags": [],
        "id": "aQXhLEWXj8Tu"
      },
      "execution_count": 115,
      "outputs": []
    },
    {
      "cell_type": "code",
      "source": [
        "data.drop(['Amount','Time'],axis=1,inplace=True)"
      ],
      "metadata": {
        "execution": {
          "iopub.execute_input": "2022-10-06T19:01:46.960679Z",
          "iopub.status.busy": "2022-10-06T19:01:46.960262Z",
          "iopub.status.idle": "2022-10-06T19:01:47.056311Z",
          "shell.execute_reply": "2022-10-06T19:01:47.055246Z"
        },
        "papermill": {
          "duration": 0.13475,
          "end_time": "2022-10-06T19:01:47.059044",
          "exception": false,
          "start_time": "2022-10-06T19:01:46.924294",
          "status": "completed"
        },
        "tags": [],
        "id": "tcxvxe2wj8Tu"
      },
      "execution_count": 116,
      "outputs": []
    },
    {
      "cell_type": "code",
      "source": [
        "data.head()"
      ],
      "metadata": {
        "execution": {
          "iopub.execute_input": "2022-10-06T19:01:47.129959Z",
          "iopub.status.busy": "2022-10-06T19:01:47.129151Z",
          "iopub.status.idle": "2022-10-06T19:01:47.155952Z",
          "shell.execute_reply": "2022-10-06T19:01:47.155092Z"
        },
        "papermill": {
          "duration": 0.064462,
          "end_time": "2022-10-06T19:01:47.158022",
          "exception": false,
          "start_time": "2022-10-06T19:01:47.09356",
          "status": "completed"
        },
        "tags": [],
        "id": "AXXlH5fnj8Tu",
        "colab": {
          "base_uri": "https://localhost:8080/",
          "height": 299
        },
        "outputId": "941a55ac-87b6-458d-e06e-85077aa11639"
      },
      "execution_count": 117,
      "outputs": [
        {
          "output_type": "execute_result",
          "data": {
            "text/plain": [
              "         V1        V2        V3        V4        V5        V6        V7  \\\n",
              "0 -1.359807 -0.072781  2.536347  1.378155 -0.338321  0.462388  0.239599   \n",
              "1  1.191857  0.266151  0.166480  0.448154  0.060018 -0.082361 -0.078803   \n",
              "2 -1.358354 -1.340163  1.773209  0.379780 -0.503198  1.800499  0.791461   \n",
              "3 -0.966272 -0.185226  1.792993 -0.863291 -0.010309  1.247203  0.237609   \n",
              "4 -1.158233  0.877737  1.548718  0.403034 -0.407193  0.095921  0.592941   \n",
              "\n",
              "         V8        V9       V10  ...       V21       V22       V23       V24  \\\n",
              "0  0.098698  0.363787  0.090794  ... -0.018307  0.277838 -0.110474  0.066928   \n",
              "1  0.085102 -0.255425 -0.166974  ... -0.225775 -0.638672  0.101288 -0.339846   \n",
              "2  0.247676 -1.514654  0.207643  ...  0.247998  0.771679  0.909412 -0.689281   \n",
              "3  0.377436 -1.387024 -0.054952  ... -0.108300  0.005274 -0.190321 -1.175575   \n",
              "4 -0.270533  0.817739  0.753074  ... -0.009431  0.798278 -0.137458  0.141267   \n",
              "\n",
              "        V25       V26       V27       V28  Class  Scaled_Amount  \n",
              "0  0.128539 -0.189115  0.133558 -0.021053      0       0.244200  \n",
              "1  0.167170  0.125895 -0.008983  0.014724      0      -0.342584  \n",
              "2 -0.327642 -0.139097 -0.055353 -0.059752      0       1.158900  \n",
              "3  0.647376 -0.221929  0.062723  0.061458      0       0.139886  \n",
              "4 -0.206010  0.502292  0.219422  0.215153      0      -0.073813  \n",
              "\n",
              "[5 rows x 30 columns]"
            ],
            "text/html": [
              "\n",
              "  <div id=\"df-46e3f128-2319-4e44-975e-ea20214b01bb\">\n",
              "    <div class=\"colab-df-container\">\n",
              "      <div>\n",
              "<style scoped>\n",
              "    .dataframe tbody tr th:only-of-type {\n",
              "        vertical-align: middle;\n",
              "    }\n",
              "\n",
              "    .dataframe tbody tr th {\n",
              "        vertical-align: top;\n",
              "    }\n",
              "\n",
              "    .dataframe thead th {\n",
              "        text-align: right;\n",
              "    }\n",
              "</style>\n",
              "<table border=\"1\" class=\"dataframe\">\n",
              "  <thead>\n",
              "    <tr style=\"text-align: right;\">\n",
              "      <th></th>\n",
              "      <th>V1</th>\n",
              "      <th>V2</th>\n",
              "      <th>V3</th>\n",
              "      <th>V4</th>\n",
              "      <th>V5</th>\n",
              "      <th>V6</th>\n",
              "      <th>V7</th>\n",
              "      <th>V8</th>\n",
              "      <th>V9</th>\n",
              "      <th>V10</th>\n",
              "      <th>...</th>\n",
              "      <th>V21</th>\n",
              "      <th>V22</th>\n",
              "      <th>V23</th>\n",
              "      <th>V24</th>\n",
              "      <th>V25</th>\n",
              "      <th>V26</th>\n",
              "      <th>V27</th>\n",
              "      <th>V28</th>\n",
              "      <th>Class</th>\n",
              "      <th>Scaled_Amount</th>\n",
              "    </tr>\n",
              "  </thead>\n",
              "  <tbody>\n",
              "    <tr>\n",
              "      <th>0</th>\n",
              "      <td>-1.359807</td>\n",
              "      <td>-0.072781</td>\n",
              "      <td>2.536347</td>\n",
              "      <td>1.378155</td>\n",
              "      <td>-0.338321</td>\n",
              "      <td>0.462388</td>\n",
              "      <td>0.239599</td>\n",
              "      <td>0.098698</td>\n",
              "      <td>0.363787</td>\n",
              "      <td>0.090794</td>\n",
              "      <td>...</td>\n",
              "      <td>-0.018307</td>\n",
              "      <td>0.277838</td>\n",
              "      <td>-0.110474</td>\n",
              "      <td>0.066928</td>\n",
              "      <td>0.128539</td>\n",
              "      <td>-0.189115</td>\n",
              "      <td>0.133558</td>\n",
              "      <td>-0.021053</td>\n",
              "      <td>0</td>\n",
              "      <td>0.244200</td>\n",
              "    </tr>\n",
              "    <tr>\n",
              "      <th>1</th>\n",
              "      <td>1.191857</td>\n",
              "      <td>0.266151</td>\n",
              "      <td>0.166480</td>\n",
              "      <td>0.448154</td>\n",
              "      <td>0.060018</td>\n",
              "      <td>-0.082361</td>\n",
              "      <td>-0.078803</td>\n",
              "      <td>0.085102</td>\n",
              "      <td>-0.255425</td>\n",
              "      <td>-0.166974</td>\n",
              "      <td>...</td>\n",
              "      <td>-0.225775</td>\n",
              "      <td>-0.638672</td>\n",
              "      <td>0.101288</td>\n",
              "      <td>-0.339846</td>\n",
              "      <td>0.167170</td>\n",
              "      <td>0.125895</td>\n",
              "      <td>-0.008983</td>\n",
              "      <td>0.014724</td>\n",
              "      <td>0</td>\n",
              "      <td>-0.342584</td>\n",
              "    </tr>\n",
              "    <tr>\n",
              "      <th>2</th>\n",
              "      <td>-1.358354</td>\n",
              "      <td>-1.340163</td>\n",
              "      <td>1.773209</td>\n",
              "      <td>0.379780</td>\n",
              "      <td>-0.503198</td>\n",
              "      <td>1.800499</td>\n",
              "      <td>0.791461</td>\n",
              "      <td>0.247676</td>\n",
              "      <td>-1.514654</td>\n",
              "      <td>0.207643</td>\n",
              "      <td>...</td>\n",
              "      <td>0.247998</td>\n",
              "      <td>0.771679</td>\n",
              "      <td>0.909412</td>\n",
              "      <td>-0.689281</td>\n",
              "      <td>-0.327642</td>\n",
              "      <td>-0.139097</td>\n",
              "      <td>-0.055353</td>\n",
              "      <td>-0.059752</td>\n",
              "      <td>0</td>\n",
              "      <td>1.158900</td>\n",
              "    </tr>\n",
              "    <tr>\n",
              "      <th>3</th>\n",
              "      <td>-0.966272</td>\n",
              "      <td>-0.185226</td>\n",
              "      <td>1.792993</td>\n",
              "      <td>-0.863291</td>\n",
              "      <td>-0.010309</td>\n",
              "      <td>1.247203</td>\n",
              "      <td>0.237609</td>\n",
              "      <td>0.377436</td>\n",
              "      <td>-1.387024</td>\n",
              "      <td>-0.054952</td>\n",
              "      <td>...</td>\n",
              "      <td>-0.108300</td>\n",
              "      <td>0.005274</td>\n",
              "      <td>-0.190321</td>\n",
              "      <td>-1.175575</td>\n",
              "      <td>0.647376</td>\n",
              "      <td>-0.221929</td>\n",
              "      <td>0.062723</td>\n",
              "      <td>0.061458</td>\n",
              "      <td>0</td>\n",
              "      <td>0.139886</td>\n",
              "    </tr>\n",
              "    <tr>\n",
              "      <th>4</th>\n",
              "      <td>-1.158233</td>\n",
              "      <td>0.877737</td>\n",
              "      <td>1.548718</td>\n",
              "      <td>0.403034</td>\n",
              "      <td>-0.407193</td>\n",
              "      <td>0.095921</td>\n",
              "      <td>0.592941</td>\n",
              "      <td>-0.270533</td>\n",
              "      <td>0.817739</td>\n",
              "      <td>0.753074</td>\n",
              "      <td>...</td>\n",
              "      <td>-0.009431</td>\n",
              "      <td>0.798278</td>\n",
              "      <td>-0.137458</td>\n",
              "      <td>0.141267</td>\n",
              "      <td>-0.206010</td>\n",
              "      <td>0.502292</td>\n",
              "      <td>0.219422</td>\n",
              "      <td>0.215153</td>\n",
              "      <td>0</td>\n",
              "      <td>-0.073813</td>\n",
              "    </tr>\n",
              "  </tbody>\n",
              "</table>\n",
              "<p>5 rows × 30 columns</p>\n",
              "</div>\n",
              "      <button class=\"colab-df-convert\" onclick=\"convertToInteractive('df-46e3f128-2319-4e44-975e-ea20214b01bb')\"\n",
              "              title=\"Convert this dataframe to an interactive table.\"\n",
              "              style=\"display:none;\">\n",
              "        \n",
              "  <svg xmlns=\"http://www.w3.org/2000/svg\" height=\"24px\"viewBox=\"0 0 24 24\"\n",
              "       width=\"24px\">\n",
              "    <path d=\"M0 0h24v24H0V0z\" fill=\"none\"/>\n",
              "    <path d=\"M18.56 5.44l.94 2.06.94-2.06 2.06-.94-2.06-.94-.94-2.06-.94 2.06-2.06.94zm-11 1L8.5 8.5l.94-2.06 2.06-.94-2.06-.94L8.5 2.5l-.94 2.06-2.06.94zm10 10l.94 2.06.94-2.06 2.06-.94-2.06-.94-.94-2.06-.94 2.06-2.06.94z\"/><path d=\"M17.41 7.96l-1.37-1.37c-.4-.4-.92-.59-1.43-.59-.52 0-1.04.2-1.43.59L10.3 9.45l-7.72 7.72c-.78.78-.78 2.05 0 2.83L4 21.41c.39.39.9.59 1.41.59.51 0 1.02-.2 1.41-.59l7.78-7.78 2.81-2.81c.8-.78.8-2.07 0-2.86zM5.41 20L4 18.59l7.72-7.72 1.47 1.35L5.41 20z\"/>\n",
              "  </svg>\n",
              "      </button>\n",
              "      \n",
              "  <style>\n",
              "    .colab-df-container {\n",
              "      display:flex;\n",
              "      flex-wrap:wrap;\n",
              "      gap: 12px;\n",
              "    }\n",
              "\n",
              "    .colab-df-convert {\n",
              "      background-color: #E8F0FE;\n",
              "      border: none;\n",
              "      border-radius: 50%;\n",
              "      cursor: pointer;\n",
              "      display: none;\n",
              "      fill: #1967D2;\n",
              "      height: 32px;\n",
              "      padding: 0 0 0 0;\n",
              "      width: 32px;\n",
              "    }\n",
              "\n",
              "    .colab-df-convert:hover {\n",
              "      background-color: #E2EBFA;\n",
              "      box-shadow: 0px 1px 2px rgba(60, 64, 67, 0.3), 0px 1px 3px 1px rgba(60, 64, 67, 0.15);\n",
              "      fill: #174EA6;\n",
              "    }\n",
              "\n",
              "    [theme=dark] .colab-df-convert {\n",
              "      background-color: #3B4455;\n",
              "      fill: #D2E3FC;\n",
              "    }\n",
              "\n",
              "    [theme=dark] .colab-df-convert:hover {\n",
              "      background-color: #434B5C;\n",
              "      box-shadow: 0px 1px 3px 1px rgba(0, 0, 0, 0.15);\n",
              "      filter: drop-shadow(0px 1px 2px rgba(0, 0, 0, 0.3));\n",
              "      fill: #FFFFFF;\n",
              "    }\n",
              "  </style>\n",
              "\n",
              "      <script>\n",
              "        const buttonEl =\n",
              "          document.querySelector('#df-46e3f128-2319-4e44-975e-ea20214b01bb button.colab-df-convert');\n",
              "        buttonEl.style.display =\n",
              "          google.colab.kernel.accessAllowed ? 'block' : 'none';\n",
              "\n",
              "        async function convertToInteractive(key) {\n",
              "          const element = document.querySelector('#df-46e3f128-2319-4e44-975e-ea20214b01bb');\n",
              "          const dataTable =\n",
              "            await google.colab.kernel.invokeFunction('convertToInteractive',\n",
              "                                                     [key], {});\n",
              "          if (!dataTable) return;\n",
              "\n",
              "          const docLinkHtml = 'Like what you see? Visit the ' +\n",
              "            '<a target=\"_blank\" href=https://colab.research.google.com/notebooks/data_table.ipynb>data table notebook</a>'\n",
              "            + ' to learn more about interactive tables.';\n",
              "          element.innerHTML = '';\n",
              "          dataTable['output_type'] = 'display_data';\n",
              "          await google.colab.output.renderOutput(dataTable, element);\n",
              "          const docLink = document.createElement('div');\n",
              "          docLink.innerHTML = docLinkHtml;\n",
              "          element.appendChild(docLink);\n",
              "        }\n",
              "      </script>\n",
              "    </div>\n",
              "  </div>\n",
              "  "
            ]
          },
          "metadata": {},
          "execution_count": 117
        }
      ]
    },
    {
      "cell_type": "markdown",
      "source": [
        "## Balance The Data"
      ],
      "metadata": {
        "papermill": {
          "duration": 0.035193,
          "end_time": "2022-10-06T19:01:47.906269",
          "exception": false,
          "start_time": "2022-10-06T19:01:47.871076",
          "status": "completed"
        },
        "tags": [],
        "id": "29_Y-9H6j8Tu"
      }
    },
    {
      "cell_type": "code",
      "source": [
        "X = data.drop('Class', axis = 1)\n",
        "y = data['Class']"
      ],
      "metadata": {
        "execution": {
          "iopub.execute_input": "2022-10-06T19:01:47.98045Z",
          "iopub.status.busy": "2022-10-06T19:01:47.979623Z",
          "iopub.status.idle": "2022-10-06T19:01:48.010305Z",
          "shell.execute_reply": "2022-10-06T19:01:48.008877Z"
        },
        "papermill": {
          "duration": 0.070999,
          "end_time": "2022-10-06T19:01:48.01288",
          "exception": false,
          "start_time": "2022-10-06T19:01:47.941881",
          "status": "completed"
        },
        "tags": [],
        "id": "Hc6zglyQj8Tu"
      },
      "execution_count": 118,
      "outputs": []
    },
    {
      "cell_type": "code",
      "source": [
        "from imblearn.over_sampling import SMOTE "
      ],
      "metadata": {
        "execution": {
          "iopub.execute_input": "2022-10-06T19:01:48.086323Z",
          "iopub.status.busy": "2022-10-06T19:01:48.0859Z",
          "iopub.status.idle": "2022-10-06T19:01:48.588673Z",
          "shell.execute_reply": "2022-10-06T19:01:48.5875Z"
        },
        "papermill": {
          "duration": 0.543045,
          "end_time": "2022-10-06T19:01:48.591548",
          "exception": false,
          "start_time": "2022-10-06T19:01:48.048503",
          "status": "completed"
        },
        "tags": [],
        "id": "quXoJ3dbj8Tv"
      },
      "execution_count": 119,
      "outputs": []
    },
    {
      "cell_type": "code",
      "source": [
        "smote=SMOTE(random_state=42)\n",
        "X_resampled, y_resampled = smote.fit_resample(X, y)"
      ],
      "metadata": {
        "execution": {
          "iopub.execute_input": "2022-10-06T19:01:48.666118Z",
          "iopub.status.busy": "2022-10-06T19:01:48.665659Z",
          "iopub.status.idle": "2022-10-06T19:01:49.263866Z",
          "shell.execute_reply": "2022-10-06T19:01:49.262569Z"
        },
        "papermill": {
          "duration": 0.63891,
          "end_time": "2022-10-06T19:01:49.267072",
          "exception": false,
          "start_time": "2022-10-06T19:01:48.628162",
          "status": "completed"
        },
        "tags": [],
        "id": "ByEK4HFqj8Tv"
      },
      "execution_count": 120,
      "outputs": []
    },
    {
      "cell_type": "code",
      "source": [
        "fig = px.pie(values=y_resampled.value_counts(), width=600, height=350)\n",
        "fig.show()"
      ],
      "metadata": {
        "execution": {
          "iopub.execute_input": "2022-10-06T19:01:49.342186Z",
          "iopub.status.busy": "2022-10-06T19:01:49.341503Z",
          "iopub.status.idle": "2022-10-06T19:01:49.393167Z",
          "shell.execute_reply": "2022-10-06T19:01:49.391955Z"
        },
        "papermill": {
          "duration": 0.091727,
          "end_time": "2022-10-06T19:01:49.395661",
          "exception": false,
          "start_time": "2022-10-06T19:01:49.303934",
          "status": "completed"
        },
        "tags": [],
        "id": "7fc6mC6ij8Tv",
        "colab": {
          "base_uri": "https://localhost:8080/",
          "height": 367
        },
        "outputId": "6e8523f1-37d5-47e1-9ccd-77ec650520bd"
      },
      "execution_count": 121,
      "outputs": [
        {
          "output_type": "display_data",
          "data": {
            "text/html": [
              "<html>\n",
              "<head><meta charset=\"utf-8\" /></head>\n",
              "<body>\n",
              "    <div>            <script src=\"https://cdnjs.cloudflare.com/ajax/libs/mathjax/2.7.5/MathJax.js?config=TeX-AMS-MML_SVG\"></script><script type=\"text/javascript\">if (window.MathJax) {MathJax.Hub.Config({SVG: {font: \"STIX-Web\"}});}</script>                <script type=\"text/javascript\">window.PlotlyConfig = {MathJaxConfig: 'local'};</script>\n",
              "        <script src=\"https://cdn.plot.ly/plotly-2.8.3.min.js\"></script>                <div id=\"7831d5f9-df18-4f40-ba81-2aeb49378007\" class=\"plotly-graph-div\" style=\"height:350px; width:600px;\"></div>            <script type=\"text/javascript\">                                    window.PLOTLYENV=window.PLOTLYENV || {};                                    if (document.getElementById(\"7831d5f9-df18-4f40-ba81-2aeb49378007\")) {                    Plotly.newPlot(                        \"7831d5f9-df18-4f40-ba81-2aeb49378007\",                        [{\"domain\":{\"x\":[0.0,1.0],\"y\":[0.0,1.0]},\"hovertemplate\":\"value=%{value}<extra></extra>\",\"legendgroup\":\"\",\"name\":\"\",\"showlegend\":false,\"values\":[283253,283253],\"type\":\"pie\"}],                        {\"template\":{\"data\":{\"bar\":[{\"error_x\":{\"color\":\"#2a3f5f\"},\"error_y\":{\"color\":\"#2a3f5f\"},\"marker\":{\"line\":{\"color\":\"#E5ECF6\",\"width\":0.5},\"pattern\":{\"fillmode\":\"overlay\",\"size\":10,\"solidity\":0.2}},\"type\":\"bar\"}],\"barpolar\":[{\"marker\":{\"line\":{\"color\":\"#E5ECF6\",\"width\":0.5},\"pattern\":{\"fillmode\":\"overlay\",\"size\":10,\"solidity\":0.2}},\"type\":\"barpolar\"}],\"carpet\":[{\"aaxis\":{\"endlinecolor\":\"#2a3f5f\",\"gridcolor\":\"white\",\"linecolor\":\"white\",\"minorgridcolor\":\"white\",\"startlinecolor\":\"#2a3f5f\"},\"baxis\":{\"endlinecolor\":\"#2a3f5f\",\"gridcolor\":\"white\",\"linecolor\":\"white\",\"minorgridcolor\":\"white\",\"startlinecolor\":\"#2a3f5f\"},\"type\":\"carpet\"}],\"choropleth\":[{\"colorbar\":{\"outlinewidth\":0,\"ticks\":\"\"},\"type\":\"choropleth\"}],\"contour\":[{\"colorbar\":{\"outlinewidth\":0,\"ticks\":\"\"},\"colorscale\":[[0.0,\"#0d0887\"],[0.1111111111111111,\"#46039f\"],[0.2222222222222222,\"#7201a8\"],[0.3333333333333333,\"#9c179e\"],[0.4444444444444444,\"#bd3786\"],[0.5555555555555556,\"#d8576b\"],[0.6666666666666666,\"#ed7953\"],[0.7777777777777778,\"#fb9f3a\"],[0.8888888888888888,\"#fdca26\"],[1.0,\"#f0f921\"]],\"type\":\"contour\"}],\"contourcarpet\":[{\"colorbar\":{\"outlinewidth\":0,\"ticks\":\"\"},\"type\":\"contourcarpet\"}],\"heatmap\":[{\"colorbar\":{\"outlinewidth\":0,\"ticks\":\"\"},\"colorscale\":[[0.0,\"#0d0887\"],[0.1111111111111111,\"#46039f\"],[0.2222222222222222,\"#7201a8\"],[0.3333333333333333,\"#9c179e\"],[0.4444444444444444,\"#bd3786\"],[0.5555555555555556,\"#d8576b\"],[0.6666666666666666,\"#ed7953\"],[0.7777777777777778,\"#fb9f3a\"],[0.8888888888888888,\"#fdca26\"],[1.0,\"#f0f921\"]],\"type\":\"heatmap\"}],\"heatmapgl\":[{\"colorbar\":{\"outlinewidth\":0,\"ticks\":\"\"},\"colorscale\":[[0.0,\"#0d0887\"],[0.1111111111111111,\"#46039f\"],[0.2222222222222222,\"#7201a8\"],[0.3333333333333333,\"#9c179e\"],[0.4444444444444444,\"#bd3786\"],[0.5555555555555556,\"#d8576b\"],[0.6666666666666666,\"#ed7953\"],[0.7777777777777778,\"#fb9f3a\"],[0.8888888888888888,\"#fdca26\"],[1.0,\"#f0f921\"]],\"type\":\"heatmapgl\"}],\"histogram\":[{\"marker\":{\"pattern\":{\"fillmode\":\"overlay\",\"size\":10,\"solidity\":0.2}},\"type\":\"histogram\"}],\"histogram2d\":[{\"colorbar\":{\"outlinewidth\":0,\"ticks\":\"\"},\"colorscale\":[[0.0,\"#0d0887\"],[0.1111111111111111,\"#46039f\"],[0.2222222222222222,\"#7201a8\"],[0.3333333333333333,\"#9c179e\"],[0.4444444444444444,\"#bd3786\"],[0.5555555555555556,\"#d8576b\"],[0.6666666666666666,\"#ed7953\"],[0.7777777777777778,\"#fb9f3a\"],[0.8888888888888888,\"#fdca26\"],[1.0,\"#f0f921\"]],\"type\":\"histogram2d\"}],\"histogram2dcontour\":[{\"colorbar\":{\"outlinewidth\":0,\"ticks\":\"\"},\"colorscale\":[[0.0,\"#0d0887\"],[0.1111111111111111,\"#46039f\"],[0.2222222222222222,\"#7201a8\"],[0.3333333333333333,\"#9c179e\"],[0.4444444444444444,\"#bd3786\"],[0.5555555555555556,\"#d8576b\"],[0.6666666666666666,\"#ed7953\"],[0.7777777777777778,\"#fb9f3a\"],[0.8888888888888888,\"#fdca26\"],[1.0,\"#f0f921\"]],\"type\":\"histogram2dcontour\"}],\"mesh3d\":[{\"colorbar\":{\"outlinewidth\":0,\"ticks\":\"\"},\"type\":\"mesh3d\"}],\"parcoords\":[{\"line\":{\"colorbar\":{\"outlinewidth\":0,\"ticks\":\"\"}},\"type\":\"parcoords\"}],\"pie\":[{\"automargin\":true,\"type\":\"pie\"}],\"scatter\":[{\"marker\":{\"colorbar\":{\"outlinewidth\":0,\"ticks\":\"\"}},\"type\":\"scatter\"}],\"scatter3d\":[{\"line\":{\"colorbar\":{\"outlinewidth\":0,\"ticks\":\"\"}},\"marker\":{\"colorbar\":{\"outlinewidth\":0,\"ticks\":\"\"}},\"type\":\"scatter3d\"}],\"scattercarpet\":[{\"marker\":{\"colorbar\":{\"outlinewidth\":0,\"ticks\":\"\"}},\"type\":\"scattercarpet\"}],\"scattergeo\":[{\"marker\":{\"colorbar\":{\"outlinewidth\":0,\"ticks\":\"\"}},\"type\":\"scattergeo\"}],\"scattergl\":[{\"marker\":{\"colorbar\":{\"outlinewidth\":0,\"ticks\":\"\"}},\"type\":\"scattergl\"}],\"scattermapbox\":[{\"marker\":{\"colorbar\":{\"outlinewidth\":0,\"ticks\":\"\"}},\"type\":\"scattermapbox\"}],\"scatterpolar\":[{\"marker\":{\"colorbar\":{\"outlinewidth\":0,\"ticks\":\"\"}},\"type\":\"scatterpolar\"}],\"scatterpolargl\":[{\"marker\":{\"colorbar\":{\"outlinewidth\":0,\"ticks\":\"\"}},\"type\":\"scatterpolargl\"}],\"scatterternary\":[{\"marker\":{\"colorbar\":{\"outlinewidth\":0,\"ticks\":\"\"}},\"type\":\"scatterternary\"}],\"surface\":[{\"colorbar\":{\"outlinewidth\":0,\"ticks\":\"\"},\"colorscale\":[[0.0,\"#0d0887\"],[0.1111111111111111,\"#46039f\"],[0.2222222222222222,\"#7201a8\"],[0.3333333333333333,\"#9c179e\"],[0.4444444444444444,\"#bd3786\"],[0.5555555555555556,\"#d8576b\"],[0.6666666666666666,\"#ed7953\"],[0.7777777777777778,\"#fb9f3a\"],[0.8888888888888888,\"#fdca26\"],[1.0,\"#f0f921\"]],\"type\":\"surface\"}],\"table\":[{\"cells\":{\"fill\":{\"color\":\"#EBF0F8\"},\"line\":{\"color\":\"white\"}},\"header\":{\"fill\":{\"color\":\"#C8D4E3\"},\"line\":{\"color\":\"white\"}},\"type\":\"table\"}]},\"layout\":{\"annotationdefaults\":{\"arrowcolor\":\"#2a3f5f\",\"arrowhead\":0,\"arrowwidth\":1},\"autotypenumbers\":\"strict\",\"coloraxis\":{\"colorbar\":{\"outlinewidth\":0,\"ticks\":\"\"}},\"colorscale\":{\"diverging\":[[0,\"#8e0152\"],[0.1,\"#c51b7d\"],[0.2,\"#de77ae\"],[0.3,\"#f1b6da\"],[0.4,\"#fde0ef\"],[0.5,\"#f7f7f7\"],[0.6,\"#e6f5d0\"],[0.7,\"#b8e186\"],[0.8,\"#7fbc41\"],[0.9,\"#4d9221\"],[1,\"#276419\"]],\"sequential\":[[0.0,\"#0d0887\"],[0.1111111111111111,\"#46039f\"],[0.2222222222222222,\"#7201a8\"],[0.3333333333333333,\"#9c179e\"],[0.4444444444444444,\"#bd3786\"],[0.5555555555555556,\"#d8576b\"],[0.6666666666666666,\"#ed7953\"],[0.7777777777777778,\"#fb9f3a\"],[0.8888888888888888,\"#fdca26\"],[1.0,\"#f0f921\"]],\"sequentialminus\":[[0.0,\"#0d0887\"],[0.1111111111111111,\"#46039f\"],[0.2222222222222222,\"#7201a8\"],[0.3333333333333333,\"#9c179e\"],[0.4444444444444444,\"#bd3786\"],[0.5555555555555556,\"#d8576b\"],[0.6666666666666666,\"#ed7953\"],[0.7777777777777778,\"#fb9f3a\"],[0.8888888888888888,\"#fdca26\"],[1.0,\"#f0f921\"]]},\"colorway\":[\"#636efa\",\"#EF553B\",\"#00cc96\",\"#ab63fa\",\"#FFA15A\",\"#19d3f3\",\"#FF6692\",\"#B6E880\",\"#FF97FF\",\"#FECB52\"],\"font\":{\"color\":\"#2a3f5f\"},\"geo\":{\"bgcolor\":\"white\",\"lakecolor\":\"white\",\"landcolor\":\"#E5ECF6\",\"showlakes\":true,\"showland\":true,\"subunitcolor\":\"white\"},\"hoverlabel\":{\"align\":\"left\"},\"hovermode\":\"closest\",\"mapbox\":{\"style\":\"light\"},\"paper_bgcolor\":\"white\",\"plot_bgcolor\":\"#E5ECF6\",\"polar\":{\"angularaxis\":{\"gridcolor\":\"white\",\"linecolor\":\"white\",\"ticks\":\"\"},\"bgcolor\":\"#E5ECF6\",\"radialaxis\":{\"gridcolor\":\"white\",\"linecolor\":\"white\",\"ticks\":\"\"}},\"scene\":{\"xaxis\":{\"backgroundcolor\":\"#E5ECF6\",\"gridcolor\":\"white\",\"gridwidth\":2,\"linecolor\":\"white\",\"showbackground\":true,\"ticks\":\"\",\"zerolinecolor\":\"white\"},\"yaxis\":{\"backgroundcolor\":\"#E5ECF6\",\"gridcolor\":\"white\",\"gridwidth\":2,\"linecolor\":\"white\",\"showbackground\":true,\"ticks\":\"\",\"zerolinecolor\":\"white\"},\"zaxis\":{\"backgroundcolor\":\"#E5ECF6\",\"gridcolor\":\"white\",\"gridwidth\":2,\"linecolor\":\"white\",\"showbackground\":true,\"ticks\":\"\",\"zerolinecolor\":\"white\"}},\"shapedefaults\":{\"line\":{\"color\":\"#2a3f5f\"}},\"ternary\":{\"aaxis\":{\"gridcolor\":\"white\",\"linecolor\":\"white\",\"ticks\":\"\"},\"baxis\":{\"gridcolor\":\"white\",\"linecolor\":\"white\",\"ticks\":\"\"},\"bgcolor\":\"#E5ECF6\",\"caxis\":{\"gridcolor\":\"white\",\"linecolor\":\"white\",\"ticks\":\"\"}},\"title\":{\"x\":0.05},\"xaxis\":{\"automargin\":true,\"gridcolor\":\"white\",\"linecolor\":\"white\",\"ticks\":\"\",\"title\":{\"standoff\":15},\"zerolinecolor\":\"white\",\"zerolinewidth\":2},\"yaxis\":{\"automargin\":true,\"gridcolor\":\"white\",\"linecolor\":\"white\",\"ticks\":\"\",\"title\":{\"standoff\":15},\"zerolinecolor\":\"white\",\"zerolinewidth\":2}}},\"legend\":{\"tracegroupgap\":0},\"margin\":{\"t\":60},\"height\":350,\"width\":600},                        {\"responsive\": true}                    ).then(function(){\n",
              "                            \n",
              "var gd = document.getElementById('7831d5f9-df18-4f40-ba81-2aeb49378007');\n",
              "var x = new MutationObserver(function (mutations, observer) {{\n",
              "        var display = window.getComputedStyle(gd).display;\n",
              "        if (!display || display === 'none') {{\n",
              "            console.log([gd, 'removed!']);\n",
              "            Plotly.purge(gd);\n",
              "            observer.disconnect();\n",
              "        }}\n",
              "}});\n",
              "\n",
              "// Listen for the removal of the full notebook cells\n",
              "var notebookContainer = gd.closest('#notebook-container');\n",
              "if (notebookContainer) {{\n",
              "    x.observe(notebookContainer, {childList: true});\n",
              "}}\n",
              "\n",
              "// Listen for the clearing of the current output cell\n",
              "var outputEl = gd.closest('.output');\n",
              "if (outputEl) {{\n",
              "    x.observe(outputEl, {childList: true});\n",
              "}}\n",
              "\n",
              "                        })                };                            </script>        </div>\n",
              "</body>\n",
              "</html>"
            ]
          },
          "metadata": {}
        }
      ]
    },
    {
      "cell_type": "markdown",
      "source": [
        "## Data Spliting"
      ],
      "metadata": {
        "papermill": {
          "duration": 0.039254,
          "end_time": "2022-10-06T19:01:49.471159",
          "exception": false,
          "start_time": "2022-10-06T19:01:49.431905",
          "status": "completed"
        },
        "tags": [],
        "id": "DNB_IgmNj8Tv"
      }
    },
    {
      "cell_type": "code",
      "source": [
        "from sklearn.model_selection import train_test_split"
      ],
      "metadata": {
        "execution": {
          "iopub.execute_input": "2022-10-06T19:01:49.544479Z",
          "iopub.status.busy": "2022-10-06T19:01:49.544071Z",
          "iopub.status.idle": "2022-10-06T19:01:49.549107Z",
          "shell.execute_reply": "2022-10-06T19:01:49.548241Z"
        },
        "papermill": {
          "duration": 0.044361,
          "end_time": "2022-10-06T19:01:49.551306",
          "exception": false,
          "start_time": "2022-10-06T19:01:49.506945",
          "status": "completed"
        },
        "tags": [],
        "id": "eq2l2dKej8Tv"
      },
      "execution_count": 122,
      "outputs": []
    },
    {
      "cell_type": "code",
      "source": [
        "X_train, X_test, y_train, y_test = train_test_split(X_resampled, y_resampled, test_size = 0.2, random_state = 0)"
      ],
      "metadata": {
        "execution": {
          "iopub.execute_input": "2022-10-06T19:01:49.627276Z",
          "iopub.status.busy": "2022-10-06T19:01:49.626496Z",
          "iopub.status.idle": "2022-10-06T19:01:49.944161Z",
          "shell.execute_reply": "2022-10-06T19:01:49.943194Z"
        },
        "papermill": {
          "duration": 0.35864,
          "end_time": "2022-10-06T19:01:49.947043",
          "exception": false,
          "start_time": "2022-10-06T19:01:49.588403",
          "status": "completed"
        },
        "tags": [],
        "id": "q9DN8mbfj8Tv"
      },
      "execution_count": 123,
      "outputs": []
    },
    {
      "cell_type": "markdown",
      "source": [
        "## Modling"
      ],
      "metadata": {
        "papermill": {
          "duration": 0.035742,
          "end_time": "2022-10-06T19:01:50.01918",
          "exception": false,
          "start_time": "2022-10-06T19:01:49.983438",
          "status": "completed"
        },
        "tags": [],
        "id": "2UwXf2Xkj8Tw"
      }
    },
    {
      "cell_type": "markdown",
      "source": [
        "### Naive bayes"
      ],
      "metadata": {
        "papermill": {
          "duration": 0.036292,
          "end_time": "2022-10-06T19:01:50.091225",
          "exception": false,
          "start_time": "2022-10-06T19:01:50.054933",
          "status": "completed"
        },
        "tags": [],
        "id": "RIJnhTM_j8Tw"
      }
    },
    {
      "cell_type": "code",
      "source": [
        "from sklearn.naive_bayes import GaussianNB"
      ],
      "metadata": {
        "execution": {
          "iopub.execute_input": "2022-10-06T19:01:50.16677Z",
          "iopub.status.busy": "2022-10-06T19:01:50.166098Z",
          "iopub.status.idle": "2022-10-06T19:01:50.173256Z",
          "shell.execute_reply": "2022-10-06T19:01:50.172303Z"
        },
        "papermill": {
          "duration": 0.047568,
          "end_time": "2022-10-06T19:01:50.175683",
          "exception": false,
          "start_time": "2022-10-06T19:01:50.128115",
          "status": "completed"
        },
        "tags": [],
        "id": "aTmJHvTPj8Tw"
      },
      "execution_count": 124,
      "outputs": []
    },
    {
      "cell_type": "code",
      "source": [
        "classifier=GaussianNB()\n",
        "classifier.fit(X_train , y_train)"
      ],
      "metadata": {
        "execution": {
          "iopub.execute_input": "2022-10-06T19:01:50.249237Z",
          "iopub.status.busy": "2022-10-06T19:01:50.248815Z",
          "iopub.status.idle": "2022-10-06T19:01:50.521833Z",
          "shell.execute_reply": "2022-10-06T19:01:50.521024Z"
        },
        "papermill": {
          "duration": 0.312472,
          "end_time": "2022-10-06T19:01:50.524023",
          "exception": false,
          "start_time": "2022-10-06T19:01:50.211551",
          "status": "completed"
        },
        "tags": [],
        "id": "wZUuA4ypj8Tw",
        "colab": {
          "base_uri": "https://localhost:8080/"
        },
        "outputId": "05e5e662-df09-4388-ea92-6eb8b96b76fc"
      },
      "execution_count": 125,
      "outputs": [
        {
          "output_type": "execute_result",
          "data": {
            "text/plain": [
              "GaussianNB()"
            ]
          },
          "metadata": {},
          "execution_count": 125
        }
      ]
    },
    {
      "cell_type": "code",
      "source": [
        "classifier.score(X_train , y_train).round(5)"
      ],
      "metadata": {
        "execution": {
          "iopub.execute_input": "2022-10-06T19:01:50.598409Z",
          "iopub.status.busy": "2022-10-06T19:01:50.597623Z",
          "iopub.status.idle": "2022-10-06T19:01:50.88987Z",
          "shell.execute_reply": "2022-10-06T19:01:50.888745Z"
        },
        "papermill": {
          "duration": 0.332579,
          "end_time": "2022-10-06T19:01:50.892905",
          "exception": false,
          "start_time": "2022-10-06T19:01:50.560326",
          "status": "completed"
        },
        "tags": [],
        "id": "dCsn9BdSj8Tw",
        "colab": {
          "base_uri": "https://localhost:8080/"
        },
        "outputId": "167fa52c-2bd8-4d1a-d077-f1a3d650955e"
      },
      "execution_count": 126,
      "outputs": [
        {
          "output_type": "execute_result",
          "data": {
            "text/plain": [
              "0.91164"
            ]
          },
          "metadata": {},
          "execution_count": 126
        }
      ]
    },
    {
      "cell_type": "code",
      "source": [
        "classifier.score(X_test , y_test).round(5)"
      ],
      "metadata": {
        "execution": {
          "iopub.execute_input": "2022-10-06T19:01:50.968746Z",
          "iopub.status.busy": "2022-10-06T19:01:50.967706Z",
          "iopub.status.idle": "2022-10-06T19:01:51.044211Z",
          "shell.execute_reply": "2022-10-06T19:01:51.042553Z"
        },
        "papermill": {
          "duration": 0.116709,
          "end_time": "2022-10-06T19:01:51.046826",
          "exception": false,
          "start_time": "2022-10-06T19:01:50.930117",
          "status": "completed"
        },
        "tags": [],
        "id": "-Lk8tXkIj8Tw",
        "colab": {
          "base_uri": "https://localhost:8080/"
        },
        "outputId": "2dc95000-3c76-43db-ec81-64b09dbb2fe8"
      },
      "execution_count": 127,
      "outputs": [
        {
          "output_type": "execute_result",
          "data": {
            "text/plain": [
              "0.91043"
            ]
          },
          "metadata": {},
          "execution_count": 127
        }
      ]
    },
    {
      "cell_type": "code",
      "source": [
        "naive_preds=classifier.predict(X_test)"
      ],
      "metadata": {
        "execution": {
          "iopub.execute_input": "2022-10-06T19:01:51.123229Z",
          "iopub.status.busy": "2022-10-06T19:01:51.12253Z",
          "iopub.status.idle": "2022-10-06T19:01:51.185899Z",
          "shell.execute_reply": "2022-10-06T19:01:51.184601Z"
        },
        "papermill": {
          "duration": 0.104766,
          "end_time": "2022-10-06T19:01:51.188845",
          "exception": false,
          "start_time": "2022-10-06T19:01:51.084079",
          "status": "completed"
        },
        "tags": [],
        "id": "uP_ZjZtgj8Tw"
      },
      "execution_count": 128,
      "outputs": []
    },
    {
      "cell_type": "code",
      "source": [
        "confusion_matrix(y_test,naive_preds)"
      ],
      "metadata": {
        "execution": {
          "iopub.execute_input": "2022-10-06T19:01:51.267305Z",
          "iopub.status.busy": "2022-10-06T19:01:51.266576Z",
          "iopub.status.idle": "2022-10-06T19:01:51.299828Z",
          "shell.execute_reply": "2022-10-06T19:01:51.298779Z"
        },
        "papermill": {
          "duration": 0.074632,
          "end_time": "2022-10-06T19:01:51.302204",
          "exception": false,
          "start_time": "2022-10-06T19:01:51.227572",
          "status": "completed"
        },
        "tags": [],
        "id": "UmXhEfYCj8Tx",
        "colab": {
          "base_uri": "https://localhost:8080/"
        },
        "outputId": "86d2a0b2-5374-4aa8-c9a5-eba047832c2d"
      },
      "execution_count": 129,
      "outputs": [
        {
          "output_type": "execute_result",
          "data": {
            "text/plain": [
              "array([[54984,  1477],\n",
              "       [ 8671, 48170]])"
            ]
          },
          "metadata": {},
          "execution_count": 129
        }
      ]
    },
    {
      "cell_type": "code",
      "source": [
        "plot_confusion_matrix(classifier, X_test, y_test,cmap='plasma')\n",
        "plt.title('Naive: Confusion Matrix', fontsize=14)\n",
        "plt.show()"
      ],
      "metadata": {
        "execution": {
          "iopub.execute_input": "2022-10-06T19:01:51.376463Z",
          "iopub.status.busy": "2022-10-06T19:01:51.376058Z",
          "iopub.status.idle": "2022-10-06T19:01:51.646216Z",
          "shell.execute_reply": "2022-10-06T19:01:51.644765Z"
        },
        "papermill": {
          "duration": 0.310102,
          "end_time": "2022-10-06T19:01:51.648849",
          "exception": false,
          "start_time": "2022-10-06T19:01:51.338747",
          "status": "completed"
        },
        "tags": [],
        "id": "ctacy7OUj8Tx",
        "colab": {
          "base_uri": "https://localhost:8080/",
          "height": 494
        },
        "outputId": "9f95c3ef-b656-4c57-cc2e-2429db00e1aa"
      },
      "execution_count": 130,
      "outputs": [
        {
          "output_type": "stream",
          "name": "stderr",
          "text": [
            "/usr/local/lib/python3.7/dist-packages/sklearn/utils/deprecation.py:87: FutureWarning:\n",
            "\n",
            "Function plot_confusion_matrix is deprecated; Function `plot_confusion_matrix` is deprecated in 1.0 and will be removed in 1.2. Use one of the class methods: ConfusionMatrixDisplay.from_predictions or ConfusionMatrixDisplay.from_estimator.\n",
            "\n"
          ]
        },
        {
          "output_type": "display_data",
          "data": {
            "text/plain": [
              "<Figure size 1008x432 with 2 Axes>"
            ],
            "image/png": "[encoded data removed]"
          },
          "metadata": {
            "needs_background": "light"
          }
        }
      ]
    },
    {
      "cell_type": "code",
      "source": [
        "print(f'\\t\\tNaive Model has A:- \\n\\nAccuracy: {accuracy_score(y_test,naive_preds).round(4)}\\t\\trecall_Score: {recall_score(y_test,naive_preds).round(4)}\\nPrecision_score: {precision_score(y_test,naive_preds).round(4)}\\t\\tF1-score equals: {f1_score(y_test,naive_preds).round(4)}')"
      ],
      "metadata": {
        "execution": {
          "iopub.execute_input": "2022-10-06T19:01:51.724814Z",
          "iopub.status.busy": "2022-10-06T19:01:51.724416Z",
          "iopub.status.idle": "2022-10-06T19:01:51.904794Z",
          "shell.execute_reply": "2022-10-06T19:01:51.903009Z"
        },
        "papermill": {
          "duration": 0.221654,
          "end_time": "2022-10-06T19:01:51.907684",
          "exception": false,
          "start_time": "2022-10-06T19:01:51.68603",
          "status": "completed"
        },
        "tags": [],
        "id": "Xkj08TVpj8Tx",
        "colab": {
          "base_uri": "https://localhost:8080/"
        },
        "outputId": "0cc869e3-6c7d-4411-9b65-cf268785c123"
      },
      "execution_count": 131,
      "outputs": [
        {
          "output_type": "stream",
          "name": "stdout",
          "text": [
            "\t\tNaive Model has A:- \n",
            "\n",
            "Accuracy: 0.9104\t\trecall_Score: 0.8475\n",
            "Precision_score: 0.9702\t\tF1-score equals: 0.9047\n"
          ]
        }
      ]
    },
    {
      "cell_type": "markdown",
      "source": [
        "### Decision Tree"
      ],
      "metadata": {
        "papermill": {
          "duration": 0.036957,
          "end_time": "2022-10-06T19:01:51.982232",
          "exception": false,
          "start_time": "2022-10-06T19:01:51.945275",
          "status": "completed"
        },
        "tags": [],
        "id": "vLqwLjQjj8Tx"
      }
    },
    {
      "cell_type": "code",
      "source": [
        "from sklearn.tree  import DecisionTreeClassifier"
      ],
      "metadata": {
        "execution": {
          "iopub.execute_input": "2022-10-06T19:01:52.058056Z",
          "iopub.status.busy": "2022-10-06T19:01:52.057641Z",
          "iopub.status.idle": "2022-10-06T19:01:52.062956Z",
          "shell.execute_reply": "2022-10-06T19:01:52.061575Z"
        },
        "papermill": {
          "duration": 0.046202,
          "end_time": "2022-10-06T19:01:52.065278",
          "exception": false,
          "start_time": "2022-10-06T19:01:52.019076",
          "status": "completed"
        },
        "tags": [],
        "id": "GsyPTR_qj8Tx"
      },
      "execution_count": 132,
      "outputs": []
    },
    {
      "cell_type": "code",
      "source": [
        "dt =DecisionTreeClassifier(max_features=8 , max_depth=6)\n",
        "dt.fit(X_train , y_train)"
      ],
      "metadata": {
        "execution": {
          "iopub.execute_input": "2022-10-06T19:01:52.142341Z",
          "iopub.status.busy": "2022-10-06T19:01:52.141902Z",
          "iopub.status.idle": "2022-10-06T19:01:57.410944Z",
          "shell.execute_reply": "2022-10-06T19:01:57.409734Z"
        },
        "papermill": {
          "duration": 5.310857,
          "end_time": "2022-10-06T19:01:57.413529",
          "exception": false,
          "start_time": "2022-10-06T19:01:52.102672",
          "status": "completed"
        },
        "scrolled": true,
        "tags": [],
        "id": "jWfOm6sSj8Tx",
        "colab": {
          "base_uri": "https://localhost:8080/"
        },
        "outputId": "e42a4826-eece-480c-bdcd-d7b404652a01"
      },
      "execution_count": 133,
      "outputs": [
        {
          "output_type": "execute_result",
          "data": {
            "text/plain": [
              "DecisionTreeClassifier(max_depth=6, max_features=8)"
            ]
          },
          "metadata": {},
          "execution_count": 133
        }
      ]
    },
    {
      "cell_type": "code",
      "source": [
        "dt.score(X_train , y_train).round(5)"
      ],
      "metadata": {
        "execution": {
          "iopub.execute_input": "2022-10-06T19:01:57.490271Z",
          "iopub.status.busy": "2022-10-06T19:01:57.489824Z",
          "iopub.status.idle": "2022-10-06T19:01:57.610668Z",
          "shell.execute_reply": "2022-10-06T19:01:57.609515Z"
        },
        "papermill": {
          "duration": 0.161903,
          "end_time": "2022-10-06T19:01:57.613124",
          "exception": false,
          "start_time": "2022-10-06T19:01:57.451221",
          "status": "completed"
        },
        "tags": [],
        "id": "OCGAqAVdj8Tx",
        "colab": {
          "base_uri": "https://localhost:8080/"
        },
        "outputId": "7276bcf1-d89d-4ad1-b791-63effb064599"
      },
      "execution_count": 134,
      "outputs": [
        {
          "output_type": "execute_result",
          "data": {
            "text/plain": [
              "0.9499"
            ]
          },
          "metadata": {},
          "execution_count": 134
        }
      ]
    },
    {
      "cell_type": "code",
      "source": [
        "dt.score(X_test , y_test).round(5)"
      ],
      "metadata": {
        "execution": {
          "iopub.execute_input": "2022-10-06T19:01:57.690782Z",
          "iopub.status.busy": "2022-10-06T19:01:57.689931Z",
          "iopub.status.idle": "2022-10-06T19:01:57.724727Z",
          "shell.execute_reply": "2022-10-06T19:01:57.723535Z"
        },
        "papermill": {
          "duration": 0.076378,
          "end_time": "2022-10-06T19:01:57.72731",
          "exception": false,
          "start_time": "2022-10-06T19:01:57.650932",
          "status": "completed"
        },
        "scrolled": true,
        "tags": [],
        "id": "DFkAgL8sj8Ty",
        "colab": {
          "base_uri": "https://localhost:8080/"
        },
        "outputId": "7d6b04be-f235-4f10-b646-3624463eca8a"
      },
      "execution_count": 135,
      "outputs": [
        {
          "output_type": "execute_result",
          "data": {
            "text/plain": [
              "0.95012"
            ]
          },
          "metadata": {},
          "execution_count": 135
        }
      ]
    },
    {
      "cell_type": "code",
      "source": [
        "Name_features=X.columns\n",
        "FeatureImportances=pd.DataFrame(dt.feature_importances_,index=Name_features).sort_values(by=0,axis = 0, ascending = False)"
      ],
      "metadata": {
        "execution": {
          "iopub.execute_input": "2022-10-06T19:01:57.805196Z",
          "iopub.status.busy": "2022-10-06T19:01:57.804772Z",
          "iopub.status.idle": "2022-10-06T19:01:57.811078Z",
          "shell.execute_reply": "2022-10-06T19:01:57.809943Z"
        },
        "papermill": {
          "duration": 0.047474,
          "end_time": "2022-10-06T19:01:57.813594",
          "exception": false,
          "start_time": "2022-10-06T19:01:57.76612",
          "status": "completed"
        },
        "tags": [],
        "id": "BXtSqJ2Gj8Ty"
      },
      "execution_count": 136,
      "outputs": []
    },
    {
      "cell_type": "code",
      "source": [
        "fig = px.bar(FeatureImportances.head()) \n",
        "fig.show()"
      ],
      "metadata": {
        "execution": {
          "iopub.execute_input": "2022-10-06T19:01:57.89306Z",
          "iopub.status.busy": "2022-10-06T19:01:57.89224Z",
          "iopub.status.idle": "2022-10-06T19:01:57.99174Z",
          "shell.execute_reply": "2022-10-06T19:01:57.990662Z"
        },
        "papermill": {
          "duration": 0.14172,
          "end_time": "2022-10-06T19:01:57.994219",
          "exception": false,
          "start_time": "2022-10-06T19:01:57.852499",
          "status": "completed"
        },
        "tags": [],
        "id": "NGNForq1j8Ty",
        "colab": {
          "base_uri": "https://localhost:8080/",
          "height": 542
        },
        "outputId": "699e9ca7-0977-4a82-8b5d-06fb7d9b0ad5"
      },
      "execution_count": 137,
      "outputs": [
        {
          "output_type": "display_data",
          "data": {
            "text/html": [
              "<html>\n",
              "<head><meta charset=\"utf-8\" /></head>\n",
              "<body>\n",
              "    <div>            <script src=\"https://cdnjs.cloudflare.com/ajax/libs/mathjax/2.7.5/MathJax.js?config=TeX-AMS-MML_SVG\"></script><script type=\"text/javascript\">if (window.MathJax) {MathJax.Hub.Config({SVG: {font: \"STIX-Web\"}});}</script>                <script type=\"text/javascript\">window.PlotlyConfig = {MathJaxConfig: 'local'};</script>\n",
              "        <script src=\"https://cdn.plot.ly/plotly-2.8.3.min.js\"></script>                <div id=\"0557f682-fa6c-4ad3-864a-11aa189153f4\" class=\"plotly-graph-div\" style=\"height:525px; width:100%;\"></div>            <script type=\"text/javascript\">                                    window.PLOTLYENV=window.PLOTLYENV || {};                                    if (document.getElementById(\"0557f682-fa6c-4ad3-864a-11aa189153f4\")) {                    Plotly.newPlot(                        \"0557f682-fa6c-4ad3-864a-11aa189153f4\",                        [{\"alignmentgroup\":\"True\",\"hovertemplate\":\"variable=0<br>index=%{x}<br>value=%{y}<extra></extra>\",\"legendgroup\":\"0\",\"marker\":{\"color\":\"#636efa\",\"pattern\":{\"shape\":\"\"}},\"name\":\"0\",\"offsetgroup\":\"0\",\"orientation\":\"v\",\"showlegend\":true,\"textposition\":\"auto\",\"x\":[\"V3\",\"V4\",\"V10\",\"V14\",\"V15\"],\"xaxis\":\"x\",\"y\":[0.5910887559486826,0.1489268708023875,0.13359121294525525,0.06755529925953693,0.010635228999118153],\"yaxis\":\"y\",\"type\":\"bar\"}],                        {\"template\":{\"data\":{\"bar\":[{\"error_x\":{\"color\":\"#2a3f5f\"},\"error_y\":{\"color\":\"#2a3f5f\"},\"marker\":{\"line\":{\"color\":\"#E5ECF6\",\"width\":0.5},\"pattern\":{\"fillmode\":\"overlay\",\"size\":10,\"solidity\":0.2}},\"type\":\"bar\"}],\"barpolar\":[{\"marker\":{\"line\":{\"color\":\"#E5ECF6\",\"width\":0.5},\"pattern\":{\"fillmode\":\"overlay\",\"size\":10,\"solidity\":0.2}},\"type\":\"barpolar\"}],\"carpet\":[{\"aaxis\":{\"endlinecolor\":\"#2a3f5f\",\"gridcolor\":\"white\",\"linecolor\":\"white\",\"minorgridcolor\":\"white\",\"startlinecolor\":\"#2a3f5f\"},\"baxis\":{\"endlinecolor\":\"#2a3f5f\",\"gridcolor\":\"white\",\"linecolor\":\"white\",\"minorgridcolor\":\"white\",\"startlinecolor\":\"#2a3f5f\"},\"type\":\"carpet\"}],\"choropleth\":[{\"colorbar\":{\"outlinewidth\":0,\"ticks\":\"\"},\"type\":\"choropleth\"}],\"contour\":[{\"colorbar\":{\"outlinewidth\":0,\"ticks\":\"\"},\"colorscale\":[[0.0,\"#0d0887\"],[0.1111111111111111,\"#46039f\"],[0.2222222222222222,\"#7201a8\"],[0.3333333333333333,\"#9c179e\"],[0.4444444444444444,\"#bd3786\"],[0.5555555555555556,\"#d8576b\"],[0.6666666666666666,\"#ed7953\"],[0.7777777777777778,\"#fb9f3a\"],[0.8888888888888888,\"#fdca26\"],[1.0,\"#f0f921\"]],\"type\":\"contour\"}],\"contourcarpet\":[{\"colorbar\":{\"outlinewidth\":0,\"ticks\":\"\"},\"type\":\"contourcarpet\"}],\"heatmap\":[{\"colorbar\":{\"outlinewidth\":0,\"ticks\":\"\"},\"colorscale\":[[0.0,\"#0d0887\"],[0.1111111111111111,\"#46039f\"],[0.2222222222222222,\"#7201a8\"],[0.3333333333333333,\"#9c179e\"],[0.4444444444444444,\"#bd3786\"],[0.5555555555555556,\"#d8576b\"],[0.6666666666666666,\"#ed7953\"],[0.7777777777777778,\"#fb9f3a\"],[0.8888888888888888,\"#fdca26\"],[1.0,\"#f0f921\"]],\"type\":\"heatmap\"}],\"heatmapgl\":[{\"colorbar\":{\"outlinewidth\":0,\"ticks\":\"\"},\"colorscale\":[[0.0,\"#0d0887\"],[0.1111111111111111,\"#46039f\"],[0.2222222222222222,\"#7201a8\"],[0.3333333333333333,\"#9c179e\"],[0.4444444444444444,\"#bd3786\"],[0.5555555555555556,\"#d8576b\"],[0.6666666666666666,\"#ed7953\"],[0.7777777777777778,\"#fb9f3a\"],[0.8888888888888888,\"#fdca26\"],[1.0,\"#f0f921\"]],\"type\":\"heatmapgl\"}],\"histogram\":[{\"marker\":{\"pattern\":{\"fillmode\":\"overlay\",\"size\":10,\"solidity\":0.2}},\"type\":\"histogram\"}],\"histogram2d\":[{\"colorbar\":{\"outlinewidth\":0,\"ticks\":\"\"},\"colorscale\":[[0.0,\"#0d0887\"],[0.1111111111111111,\"#46039f\"],[0.2222222222222222,\"#7201a8\"],[0.3333333333333333,\"#9c179e\"],[0.4444444444444444,\"#bd3786\"],[0.5555555555555556,\"#d8576b\"],[0.6666666666666666,\"#ed7953\"],[0.7777777777777778,\"#fb9f3a\"],[0.8888888888888888,\"#fdca26\"],[1.0,\"#f0f921\"]],\"type\":\"histogram2d\"}],\"histogram2dcontour\":[{\"colorbar\":{\"outlinewidth\":0,\"ticks\":\"\"},\"colorscale\":[[0.0,\"#0d0887\"],[0.1111111111111111,\"#46039f\"],[0.2222222222222222,\"#7201a8\"],[0.3333333333333333,\"#9c179e\"],[0.4444444444444444,\"#bd3786\"],[0.5555555555555556,\"#d8576b\"],[0.6666666666666666,\"#ed7953\"],[0.7777777777777778,\"#fb9f3a\"],[0.8888888888888888,\"#fdca26\"],[1.0,\"#f0f921\"]],\"type\":\"histogram2dcontour\"}],\"mesh3d\":[{\"colorbar\":{\"outlinewidth\":0,\"ticks\":\"\"},\"type\":\"mesh3d\"}],\"parcoords\":[{\"line\":{\"colorbar\":{\"outlinewidth\":0,\"ticks\":\"\"}},\"type\":\"parcoords\"}],\"pie\":[{\"automargin\":true,\"type\":\"pie\"}],\"scatter\":[{\"marker\":{\"colorbar\":{\"outlinewidth\":0,\"ticks\":\"\"}},\"type\":\"scatter\"}],\"scatter3d\":[{\"line\":{\"colorbar\":{\"outlinewidth\":0,\"ticks\":\"\"}},\"marker\":{\"colorbar\":{\"outlinewidth\":0,\"ticks\":\"\"}},\"type\":\"scatter3d\"}],\"scattercarpet\":[{\"marker\":{\"colorbar\":{\"outlinewidth\":0,\"ticks\":\"\"}},\"type\":\"scattercarpet\"}],\"scattergeo\":[{\"marker\":{\"colorbar\":{\"outlinewidth\":0,\"ticks\":\"\"}},\"type\":\"scattergeo\"}],\"scattergl\":[{\"marker\":{\"colorbar\":{\"outlinewidth\":0,\"ticks\":\"\"}},\"type\":\"scattergl\"}],\"scattermapbox\":[{\"marker\":{\"colorbar\":{\"outlinewidth\":0,\"ticks\":\"\"}},\"type\":\"scattermapbox\"}],\"scatterpolar\":[{\"marker\":{\"colorbar\":{\"outlinewidth\":0,\"ticks\":\"\"}},\"type\":\"scatterpolar\"}],\"scatterpolargl\":[{\"marker\":{\"colorbar\":{\"outlinewidth\":0,\"ticks\":\"\"}},\"type\":\"scatterpolargl\"}],\"scatterternary\":[{\"marker\":{\"colorbar\":{\"outlinewidth\":0,\"ticks\":\"\"}},\"type\":\"scatterternary\"}],\"surface\":[{\"colorbar\":{\"outlinewidth\":0,\"ticks\":\"\"},\"colorscale\":[[0.0,\"#0d0887\"],[0.1111111111111111,\"#46039f\"],[0.2222222222222222,\"#7201a8\"],[0.3333333333333333,\"#9c179e\"],[0.4444444444444444,\"#bd3786\"],[0.5555555555555556,\"#d8576b\"],[0.6666666666666666,\"#ed7953\"],[0.7777777777777778,\"#fb9f3a\"],[0.8888888888888888,\"#fdca26\"],[1.0,\"#f0f921\"]],\"type\":\"surface\"}],\"table\":[{\"cells\":{\"fill\":{\"color\":\"#EBF0F8\"},\"line\":{\"color\":\"white\"}},\"header\":{\"fill\":{\"color\":\"#C8D4E3\"},\"line\":{\"color\":\"white\"}},\"type\":\"table\"}]},\"layout\":{\"annotationdefaults\":{\"arrowcolor\":\"#2a3f5f\",\"arrowhead\":0,\"arrowwidth\":1},\"autotypenumbers\":\"strict\",\"coloraxis\":{\"colorbar\":{\"outlinewidth\":0,\"ticks\":\"\"}},\"colorscale\":{\"diverging\":[[0,\"#8e0152\"],[0.1,\"#c51b7d\"],[0.2,\"#de77ae\"],[0.3,\"#f1b6da\"],[0.4,\"#fde0ef\"],[0.5,\"#f7f7f7\"],[0.6,\"#e6f5d0\"],[0.7,\"#b8e186\"],[0.8,\"#7fbc41\"],[0.9,\"#4d9221\"],[1,\"#276419\"]],\"sequential\":[[0.0,\"#0d0887\"],[0.1111111111111111,\"#46039f\"],[0.2222222222222222,\"#7201a8\"],[0.3333333333333333,\"#9c179e\"],[0.4444444444444444,\"#bd3786\"],[0.5555555555555556,\"#d8576b\"],[0.6666666666666666,\"#ed7953\"],[0.7777777777777778,\"#fb9f3a\"],[0.8888888888888888,\"#fdca26\"],[1.0,\"#f0f921\"]],\"sequentialminus\":[[0.0,\"#0d0887\"],[0.1111111111111111,\"#46039f\"],[0.2222222222222222,\"#7201a8\"],[0.3333333333333333,\"#9c179e\"],[0.4444444444444444,\"#bd3786\"],[0.5555555555555556,\"#d8576b\"],[0.6666666666666666,\"#ed7953\"],[0.7777777777777778,\"#fb9f3a\"],[0.8888888888888888,\"#fdca26\"],[1.0,\"#f0f921\"]]},\"colorway\":[\"#636efa\",\"#EF553B\",\"#00cc96\",\"#ab63fa\",\"#FFA15A\",\"#19d3f3\",\"#FF6692\",\"#B6E880\",\"#FF97FF\",\"#FECB52\"],\"font\":{\"color\":\"#2a3f5f\"},\"geo\":{\"bgcolor\":\"white\",\"lakecolor\":\"white\",\"landcolor\":\"#E5ECF6\",\"showlakes\":true,\"showland\":true,\"subunitcolor\":\"white\"},\"hoverlabel\":{\"align\":\"left\"},\"hovermode\":\"closest\",\"mapbox\":{\"style\":\"light\"},\"paper_bgcolor\":\"white\",\"plot_bgcolor\":\"#E5ECF6\",\"polar\":{\"angularaxis\":{\"gridcolor\":\"white\",\"linecolor\":\"white\",\"ticks\":\"\"},\"bgcolor\":\"#E5ECF6\",\"radialaxis\":{\"gridcolor\":\"white\",\"linecolor\":\"white\",\"ticks\":\"\"}},\"scene\":{\"xaxis\":{\"backgroundcolor\":\"#E5ECF6\",\"gridcolor\":\"white\",\"gridwidth\":2,\"linecolor\":\"white\",\"showbackground\":true,\"ticks\":\"\",\"zerolinecolor\":\"white\"},\"yaxis\":{\"backgroundcolor\":\"#E5ECF6\",\"gridcolor\":\"white\",\"gridwidth\":2,\"linecolor\":\"white\",\"showbackground\":true,\"ticks\":\"\",\"zerolinecolor\":\"white\"},\"zaxis\":{\"backgroundcolor\":\"#E5ECF6\",\"gridcolor\":\"white\",\"gridwidth\":2,\"linecolor\":\"white\",\"showbackground\":true,\"ticks\":\"\",\"zerolinecolor\":\"white\"}},\"shapedefaults\":{\"line\":{\"color\":\"#2a3f5f\"}},\"ternary\":{\"aaxis\":{\"gridcolor\":\"white\",\"linecolor\":\"white\",\"ticks\":\"\"},\"baxis\":{\"gridcolor\":\"white\",\"linecolor\":\"white\",\"ticks\":\"\"},\"bgcolor\":\"#E5ECF6\",\"caxis\":{\"gridcolor\":\"white\",\"linecolor\":\"white\",\"ticks\":\"\"}},\"title\":{\"x\":0.05},\"xaxis\":{\"automargin\":true,\"gridcolor\":\"white\",\"linecolor\":\"white\",\"ticks\":\"\",\"title\":{\"standoff\":15},\"zerolinecolor\":\"white\",\"zerolinewidth\":2},\"yaxis\":{\"automargin\":true,\"gridcolor\":\"white\",\"linecolor\":\"white\",\"ticks\":\"\",\"title\":{\"standoff\":15},\"zerolinecolor\":\"white\",\"zerolinewidth\":2}}},\"xaxis\":{\"anchor\":\"y\",\"domain\":[0.0,1.0],\"title\":{\"text\":\"index\"}},\"yaxis\":{\"anchor\":\"x\",\"domain\":[0.0,1.0],\"title\":{\"text\":\"value\"}},\"legend\":{\"title\":{\"text\":\"variable\"},\"tracegroupgap\":0},\"margin\":{\"t\":60},\"barmode\":\"relative\"},                        {\"responsive\": true}                    ).then(function(){\n",
              "                            \n",
              "var gd = document.getElementById('0557f682-fa6c-4ad3-864a-11aa189153f4');\n",
              "var x = new MutationObserver(function (mutations, observer) {{\n",
              "        var display = window.getComputedStyle(gd).display;\n",
              "        if (!display || display === 'none') {{\n",
              "            console.log([gd, 'removed!']);\n",
              "            Plotly.purge(gd);\n",
              "            observer.disconnect();\n",
              "        }}\n",
              "}});\n",
              "\n",
              "// Listen for the removal of the full notebook cells\n",
              "var notebookContainer = gd.closest('#notebook-container');\n",
              "if (notebookContainer) {{\n",
              "    x.observe(notebookContainer, {childList: true});\n",
              "}}\n",
              "\n",
              "// Listen for the clearing of the current output cell\n",
              "var outputEl = gd.closest('.output');\n",
              "if (outputEl) {{\n",
              "    x.observe(outputEl, {childList: true});\n",
              "}}\n",
              "\n",
              "                        })                };                            </script>        </div>\n",
              "</body>\n",
              "</html>"
            ]
          },
          "metadata": {}
        }
      ]
    },
    {
      "cell_type": "code",
      "source": [
        "DT_preds=dt.predict(X_test)"
      ],
      "metadata": {
        "execution": {
          "iopub.execute_input": "2022-10-06T19:01:58.15049Z",
          "iopub.status.busy": "2022-10-06T19:01:58.149672Z",
          "iopub.status.idle": "2022-10-06T19:01:58.169782Z",
          "shell.execute_reply": "2022-10-06T19:01:58.168776Z"
        },
        "papermill": {
          "duration": 0.064135,
          "end_time": "2022-10-06T19:01:58.172482",
          "exception": false,
          "start_time": "2022-10-06T19:01:58.108347",
          "status": "completed"
        },
        "tags": [],
        "id": "DLkLD2Gyj8Ty"
      },
      "execution_count": 138,
      "outputs": []
    },
    {
      "cell_type": "code",
      "source": [
        "confusion_matrix(y_test,DT_preds)"
      ],
      "metadata": {
        "execution": {
          "iopub.execute_input": "2022-10-06T19:01:58.252933Z",
          "iopub.status.busy": "2022-10-06T19:01:58.252516Z",
          "iopub.status.idle": "2022-10-06T19:01:58.284325Z",
          "shell.execute_reply": "2022-10-06T19:01:58.283075Z"
        },
        "papermill": {
          "duration": 0.073913,
          "end_time": "2022-10-06T19:01:58.286678",
          "exception": false,
          "start_time": "2022-10-06T19:01:58.212765",
          "status": "completed"
        },
        "scrolled": true,
        "tags": [],
        "id": "wl5TWdyzj8Ty",
        "colab": {
          "base_uri": "https://localhost:8080/"
        },
        "outputId": "9010e51f-1f9c-4235-a858-409ea320ed1c"
      },
      "execution_count": 139,
      "outputs": [
        {
          "output_type": "execute_result",
          "data": {
            "text/plain": [
              "array([[54166,  2295],\n",
              "       [ 3357, 53484]])"
            ]
          },
          "metadata": {},
          "execution_count": 139
        }
      ]
    },
    {
      "cell_type": "code",
      "source": [
        "plot_confusion_matrix(dt, X_test, y_test,cmap='cividis')\n",
        "plt.title('DT: Confusion Matrix', fontsize=14)\n",
        "plt.show()"
      ],
      "metadata": {
        "execution": {
          "iopub.execute_input": "2022-10-06T19:01:58.366949Z",
          "iopub.status.busy": "2022-10-06T19:01:58.366554Z",
          "iopub.status.idle": "2022-10-06T19:01:58.588273Z",
          "shell.execute_reply": "2022-10-06T19:01:58.586889Z"
        },
        "papermill": {
          "duration": 0.264499,
          "end_time": "2022-10-06T19:01:58.591179",
          "exception": false,
          "start_time": "2022-10-06T19:01:58.32668",
          "status": "completed"
        },
        "tags": [],
        "id": "uSsUnNDTj8Tz",
        "colab": {
          "base_uri": "https://localhost:8080/",
          "height": 494
        },
        "outputId": "1504138c-f09a-4d65-ea75-9b1f1f052d48"
      },
      "execution_count": 140,
      "outputs": [
        {
          "output_type": "stream",
          "name": "stderr",
          "text": [
            "/usr/local/lib/python3.7/dist-packages/sklearn/utils/deprecation.py:87: FutureWarning:\n",
            "\n",
            "Function plot_confusion_matrix is deprecated; Function `plot_confusion_matrix` is deprecated in 1.0 and will be removed in 1.2. Use one of the class methods: ConfusionMatrixDisplay.from_predictions or ConfusionMatrixDisplay.from_estimator.\n",
            "\n"
          ]
        },
        {
          "output_type": "display_data",
          "data": {
            "text/plain": [
              "<Figure size 1008x432 with 2 Axes>"
            ],
            "image/png": "[encoded data removed]"
          },
          "metadata": {
            "needs_background": "light"
          }
        }
      ]
    },
    {
      "cell_type": "code",
      "source": [
        "print(f'\\t\\tDT Model has A:- \\n\\nAccuracy: {accuracy_score(y_test,DT_preds).round(4)}\\t\\trecall_Score: {recall_score(y_test,DT_preds).round(4)}\\nPrecision_score: {precision_score(y_test,DT_preds).round(4)}\\t\\tF1-score equals: {f1_score(y_test,DT_preds).round(4)}')"
      ],
      "metadata": {
        "execution": {
          "iopub.execute_input": "2022-10-06T19:01:58.669644Z",
          "iopub.status.busy": "2022-10-06T19:01:58.669246Z",
          "iopub.status.idle": "2022-10-06T19:01:58.85134Z",
          "shell.execute_reply": "2022-10-06T19:01:58.850064Z"
        },
        "papermill": {
          "duration": 0.224734,
          "end_time": "2022-10-06T19:01:58.854086",
          "exception": false,
          "start_time": "2022-10-06T19:01:58.629352",
          "status": "completed"
        },
        "scrolled": true,
        "tags": [],
        "id": "vuOTcchnj8Tz",
        "colab": {
          "base_uri": "https://localhost:8080/"
        },
        "outputId": "87712181-9132-44f0-d316-3df440620879"
      },
      "execution_count": 141,
      "outputs": [
        {
          "output_type": "stream",
          "name": "stdout",
          "text": [
            "\t\tDT Model has A:- \n",
            "\n",
            "Accuracy: 0.9501\t\trecall_Score: 0.9409\n",
            "Precision_score: 0.9589\t\tF1-score equals: 0.9498\n"
          ]
        }
      ]
    },
    {
      "cell_type": "code",
      "source": [
        "from sklearn.metrics import classification_report\n",
        "print(classification_report(y_test, DT_preds))"
      ],
      "metadata": {
        "execution": {
          "iopub.execute_input": "2022-10-06T19:01:58.932577Z",
          "iopub.status.busy": "2022-10-06T19:01:58.932182Z",
          "iopub.status.idle": "2022-10-06T19:01:59.172968Z",
          "shell.execute_reply": "2022-10-06T19:01:59.171335Z"
        },
        "papermill": {
          "duration": 0.283228,
          "end_time": "2022-10-06T19:01:59.175827",
          "exception": false,
          "start_time": "2022-10-06T19:01:58.892599",
          "status": "completed"
        },
        "tags": [],
        "id": "c3yflwQBj8Tz",
        "colab": {
          "base_uri": "https://localhost:8080/"
        },
        "outputId": "6c3f5163-ed88-44bc-aeb2-c0fc4bb0f760"
      },
      "execution_count": 142,
      "outputs": [
        {
          "output_type": "stream",
          "name": "stdout",
          "text": [
            "              precision    recall  f1-score   support\n",
            "\n",
            "           0       0.94      0.96      0.95     56461\n",
            "           1       0.96      0.94      0.95     56841\n",
            "\n",
            "    accuracy                           0.95    113302\n",
            "   macro avg       0.95      0.95      0.95    113302\n",
            "weighted avg       0.95      0.95      0.95    113302\n",
            "\n"
          ]
        }
      ]
    },
    {
      "cell_type": "markdown",
      "source": [
        "### Logistic Regression"
      ],
      "metadata": {
        "papermill": {
          "duration": 0.038319,
          "end_time": "2022-10-06T19:01:59.253773",
          "exception": false,
          "start_time": "2022-10-06T19:01:59.215454",
          "status": "completed"
        },
        "tags": [],
        "id": "pZNQYq9lj8Tz"
      }
    },
    {
      "cell_type": "code",
      "source": [
        "from sklearn.linear_model import LogisticRegression"
      ],
      "metadata": {
        "execution": {
          "iopub.execute_input": "2022-10-06T19:01:59.333183Z",
          "iopub.status.busy": "2022-10-06T19:01:59.332308Z",
          "iopub.status.idle": "2022-10-06T19:01:59.337809Z",
          "shell.execute_reply": "2022-10-06T19:01:59.33659Z"
        },
        "papermill": {
          "duration": 0.048065,
          "end_time": "2022-10-06T19:01:59.340278",
          "exception": false,
          "start_time": "2022-10-06T19:01:59.292213",
          "status": "completed"
        },
        "tags": [],
        "id": "y6g9VCSSj8Tz"
      },
      "execution_count": 143,
      "outputs": []
    },
    {
      "cell_type": "code",
      "source": [
        "lr = LogisticRegression(C = 100)\n",
        "lr.fit(X_train , y_train)"
      ],
      "metadata": {
        "execution": {
          "iopub.execute_input": "2022-10-06T19:01:59.42108Z",
          "iopub.status.busy": "2022-10-06T19:01:59.420676Z",
          "iopub.status.idle": "2022-10-06T19:02:05.175639Z",
          "shell.execute_reply": "2022-10-06T19:02:05.174035Z"
        },
        "papermill": {
          "duration": 5.800448,
          "end_time": "2022-10-06T19:02:05.180087",
          "exception": false,
          "start_time": "2022-10-06T19:01:59.379639",
          "status": "completed"
        },
        "tags": [],
        "id": "JDXUFXVOj8Tz",
        "colab": {
          "base_uri": "https://localhost:8080/"
        },
        "outputId": "ab2be010-73b1-404b-8ae4-19789360eec8"
      },
      "execution_count": 144,
      "outputs": [
        {
          "output_type": "execute_result",
          "data": {
            "text/plain": [
              "LogisticRegression(C=100)"
            ]
          },
          "metadata": {},
          "execution_count": 144
        }
      ]
    },
    {
      "cell_type": "code",
      "source": [
        "lr.score(X_train , y_train).round(5)"
      ],
      "metadata": {
        "execution": {
          "iopub.execute_input": "2022-10-06T19:02:05.323579Z",
          "iopub.status.busy": "2022-10-06T19:02:05.323192Z",
          "iopub.status.idle": "2022-10-06T19:02:05.457558Z",
          "shell.execute_reply": "2022-10-06T19:02:05.455628Z"
        },
        "papermill": {
          "duration": 0.185524,
          "end_time": "2022-10-06T19:02:05.463203",
          "exception": false,
          "start_time": "2022-10-06T19:02:05.277679",
          "status": "completed"
        },
        "tags": [],
        "id": "cobFIV2Kj8Tz",
        "colab": {
          "base_uri": "https://localhost:8080/"
        },
        "outputId": "4b5f2ee0-3149-42f6-977d-69c5d78f230a"
      },
      "execution_count": 145,
      "outputs": [
        {
          "output_type": "execute_result",
          "data": {
            "text/plain": [
              "0.94423"
            ]
          },
          "metadata": {},
          "execution_count": 145
        }
      ]
    },
    {
      "cell_type": "code",
      "source": [
        "lr.score(X_test , y_test).round(5)"
      ],
      "metadata": {
        "execution": {
          "iopub.execute_input": "2022-10-06T19:02:05.561905Z",
          "iopub.status.busy": "2022-10-06T19:02:05.560273Z",
          "iopub.status.idle": "2022-10-06T19:02:05.601782Z",
          "shell.execute_reply": "2022-10-06T19:02:05.600537Z"
        },
        "papermill": {
          "duration": 0.096171,
          "end_time": "2022-10-06T19:02:05.605775",
          "exception": false,
          "start_time": "2022-10-06T19:02:05.509604",
          "status": "completed"
        },
        "tags": [],
        "id": "7JOuPl_yj8Tz",
        "colab": {
          "base_uri": "https://localhost:8080/"
        },
        "outputId": "ada5726a-afca-4968-806c-5dbd3185c9c9"
      },
      "execution_count": 146,
      "outputs": [
        {
          "output_type": "execute_result",
          "data": {
            "text/plain": [
              "0.94493"
            ]
          },
          "metadata": {},
          "execution_count": 146
        }
      ]
    },
    {
      "cell_type": "code",
      "source": [
        "LR_preds=lr.predict(X_test)"
      ],
      "metadata": {
        "execution": {
          "iopub.execute_input": "2022-10-06T19:02:05.741066Z",
          "iopub.status.busy": "2022-10-06T19:02:05.740592Z",
          "iopub.status.idle": "2022-10-06T19:02:05.754658Z",
          "shell.execute_reply": "2022-10-06T19:02:05.753397Z"
        },
        "papermill": {
          "duration": 0.060479,
          "end_time": "2022-10-06T19:02:05.760159",
          "exception": false,
          "start_time": "2022-10-06T19:02:05.69968",
          "status": "completed"
        },
        "tags": [],
        "id": "4o6DZ2-Fj8T0"
      },
      "execution_count": 147,
      "outputs": []
    },
    {
      "cell_type": "code",
      "source": [
        "confusion_matrix(y_test,LR_preds)"
      ],
      "metadata": {
        "execution": {
          "iopub.execute_input": "2022-10-06T19:02:05.909368Z",
          "iopub.status.busy": "2022-10-06T19:02:05.908928Z",
          "iopub.status.idle": "2022-10-06T19:02:05.943345Z",
          "shell.execute_reply": "2022-10-06T19:02:05.942099Z"
        },
        "papermill": {
          "duration": 0.085359,
          "end_time": "2022-10-06T19:02:05.945784",
          "exception": false,
          "start_time": "2022-10-06T19:02:05.860425",
          "status": "completed"
        },
        "tags": [],
        "id": "2qvDAQ1kj8T0",
        "colab": {
          "base_uri": "https://localhost:8080/"
        },
        "outputId": "d656f83b-4db8-4993-afa9-d32be59cec24"
      },
      "execution_count": 148,
      "outputs": [
        {
          "output_type": "execute_result",
          "data": {
            "text/plain": [
              "array([[55058,  1403],\n",
              "       [ 4836, 52005]])"
            ]
          },
          "metadata": {},
          "execution_count": 148
        }
      ]
    },
    {
      "cell_type": "code",
      "source": [
        "plot_confusion_matrix(lr, X_test, y_test,cmap='inferno')\n",
        "plt.title('LogisticRegression: Confusion Matrix', fontsize=14)\n",
        "plt.show()"
      ],
      "metadata": {
        "execution": {
          "iopub.execute_input": "2022-10-06T19:02:06.027111Z",
          "iopub.status.busy": "2022-10-06T19:02:06.025916Z",
          "iopub.status.idle": "2022-10-06T19:02:06.308252Z",
          "shell.execute_reply": "2022-10-06T19:02:06.30734Z"
        },
        "papermill": {
          "duration": 0.325061,
          "end_time": "2022-10-06T19:02:06.310601",
          "exception": false,
          "start_time": "2022-10-06T19:02:05.98554",
          "status": "completed"
        },
        "tags": [],
        "id": "_OY_f7T6j8T0",
        "colab": {
          "base_uri": "https://localhost:8080/",
          "height": 494
        },
        "outputId": "01391611-b6de-42f4-d1ab-0d17ed991c0d"
      },
      "execution_count": 149,
      "outputs": [
        {
          "output_type": "stream",
          "name": "stderr",
          "text": [
            "/usr/local/lib/python3.7/dist-packages/sklearn/utils/deprecation.py:87: FutureWarning:\n",
            "\n",
            "Function plot_confusion_matrix is deprecated; Function `plot_confusion_matrix` is deprecated in 1.0 and will be removed in 1.2. Use one of the class methods: ConfusionMatrixDisplay.from_predictions or ConfusionMatrixDisplay.from_estimator.\n",
            "\n"
          ]
        },
        {
          "output_type": "display_data",
          "data": {
            "text/plain": [
              "<Figure size 1008x432 with 2 Axes>"
            ],
            "image/png": "[encoded data removed]"
          },
          "metadata": {
            "needs_background": "light"
          }
        }
      ]
    },
    {
      "cell_type": "code",
      "source": [
        "print(f'\\t\\tLR Model has A:- \\n\\nAccuracy: {accuracy_score(y_test,LR_preds).round(4)}\\t\\trecall_Score: {recall_score(y_test,LR_preds).round(4)}\\nPrecision_score: {precision_score(y_test,LR_preds).round(4)}\\t\\tF1-score equals: {f1_score(y_test,LR_preds).round(4)}')"
      ],
      "metadata": {
        "execution": {
          "iopub.execute_input": "2022-10-06T19:02:06.808542Z",
          "iopub.status.busy": "2022-10-06T19:02:06.808154Z",
          "iopub.status.idle": "2022-10-06T19:02:06.985447Z",
          "shell.execute_reply": "2022-10-06T19:02:06.98389Z"
        },
        "papermill": {
          "duration": 0.220578,
          "end_time": "2022-10-06T19:02:06.987896",
          "exception": false,
          "start_time": "2022-10-06T19:02:06.767318",
          "status": "completed"
        },
        "tags": [],
        "id": "vQt3MXPij8T0",
        "colab": {
          "base_uri": "https://localhost:8080/"
        },
        "outputId": "2234043d-ff85-425f-eaa1-05eba6fbef67"
      },
      "execution_count": 150,
      "outputs": [
        {
          "output_type": "stream",
          "name": "stdout",
          "text": [
            "\t\tLR Model has A:- \n",
            "\n",
            "Accuracy: 0.9449\t\trecall_Score: 0.9149\n",
            "Precision_score: 0.9737\t\tF1-score equals: 0.9434\n"
          ]
        }
      ]
    },
    {
      "cell_type": "code",
      "source": [
        "from sklearn.metrics import classification_report\n",
        "print(classification_report(y_test, LR_preds))"
      ],
      "metadata": {
        "execution": {
          "iopub.execute_input": "2022-10-06T19:02:07.076255Z",
          "iopub.status.busy": "2022-10-06T19:02:07.075794Z",
          "iopub.status.idle": "2022-10-06T19:02:07.319197Z",
          "shell.execute_reply": "2022-10-06T19:02:07.31752Z"
        },
        "papermill": {
          "duration": 0.289399,
          "end_time": "2022-10-06T19:02:07.321888",
          "exception": false,
          "start_time": "2022-10-06T19:02:07.032489",
          "status": "completed"
        },
        "tags": [],
        "id": "nE0lp0ENj8T0",
        "colab": {
          "base_uri": "https://localhost:8080/"
        },
        "outputId": "54f399ee-22fe-4b8f-9094-3cae8aac26dc"
      },
      "execution_count": 151,
      "outputs": [
        {
          "output_type": "stream",
          "name": "stdout",
          "text": [
            "              precision    recall  f1-score   support\n",
            "\n",
            "           0       0.92      0.98      0.95     56461\n",
            "           1       0.97      0.91      0.94     56841\n",
            "\n",
            "    accuracy                           0.94    113302\n",
            "   macro avg       0.95      0.95      0.94    113302\n",
            "weighted avg       0.95      0.94      0.94    113302\n",
            "\n"
          ]
        }
      ]
    },
    {
      "cell_type": "markdown",
      "source": [
        "## Models Comparision"
      ],
      "metadata": {
        "papermill": {
          "duration": 0.045834,
          "end_time": "2022-10-06T21:44:11.94178",
          "exception": false,
          "start_time": "2022-10-06T21:44:11.895946",
          "status": "completed"
        },
        "tags": [],
        "id": "45Umu4TBj8T5"
      }
    },
    {
      "cell_type": "markdown",
      "source": [
        "creating dictionary for storing different models accuracy"
      ],
      "metadata": {
        "papermill": {
          "duration": 0.046956,
          "end_time": "2022-10-06T21:44:12.035824",
          "exception": false,
          "start_time": "2022-10-06T21:44:11.988868",
          "status": "completed"
        },
        "tags": [],
        "id": "XL0-kRFDj8T5"
      }
    },
    {
      "cell_type": "code",
      "source": [
        "model_comparison={}\n",
        "model_comparison['Decision Tree']=[accuracy_score(y_test,DT_preds),f1_score(y_test,DT_preds,average='weighted'),precision_score(y_test,DT_preds),recall_score(y_test,DT_preds)]\n",
        "model_comparison['Naive']=[accuracy_score(y_test,naive_preds),f1_score(y_test,naive_preds,average='weighted'),precision_score(y_test,naive_preds),recall_score(y_test,naive_preds)]                                   \n",
        "model_comparison['Logistic Regression']=[accuracy_score(y_test,LR_preds),f1_score(y_test,LR_preds,average='weighted'),precision_score(y_test,LR_preds),recall_score(y_test,LR_preds)] "
      ],
      "metadata": {
        "execution": {
          "iopub.execute_input": "2022-10-06T21:44:12.133029Z",
          "iopub.status.busy": "2022-10-06T21:44:12.132622Z",
          "iopub.status.idle": "2022-10-06T21:44:12.660483Z",
          "shell.execute_reply": "2022-10-06T21:44:12.659256Z"
        },
        "papermill": {
          "duration": 0.579389,
          "end_time": "2022-10-06T21:44:12.663317",
          "exception": false,
          "start_time": "2022-10-06T21:44:12.083928",
          "status": "completed"
        },
        "tags": [],
        "id": "JE3P8yCJj8T6"
      },
      "execution_count": 161,
      "outputs": []
    },
    {
      "cell_type": "code",
      "source": [
        "Model_com_df=pd.DataFrame(model_comparison).T\n",
        "Model_com_df.columns=['Model Accuracy','Model F1-Score','precision','recall']\n",
        "Model_com_df=Model_com_df.sort_values(by='Model F1-Score',ascending=False)\n",
        "Model_com_df.style.format(\"{:.2%}\")"
      ],
      "metadata": {
        "execution": {
          "iopub.execute_input": "2022-10-06T21:44:12.757426Z",
          "iopub.status.busy": "2022-10-06T21:44:12.756974Z",
          "iopub.status.idle": "2022-10-06T21:44:12.791617Z",
          "shell.execute_reply": "2022-10-06T21:44:12.790482Z"
        },
        "papermill": {
          "duration": 0.084458,
          "end_time": "2022-10-06T21:44:12.793902",
          "exception": false,
          "start_time": "2022-10-06T21:44:12.709444",
          "status": "completed"
        },
        "tags": [],
        "id": "CKfIOZklj8T6",
        "colab": {
          "base_uri": "https://localhost:8080/",
          "height": 143
        },
        "outputId": "a18f549d-c18c-4272-b44c-fe12cfced6df"
      },
      "execution_count": 162,
      "outputs": [
        {
          "output_type": "execute_result",
          "data": {
            "text/plain": [
              "<pandas.io.formats.style.Styler at 0x7f3e83c7aa90>"
            ],
            "text/html": [
              "<style type=\"text/css\">\n",
              "</style>\n",
              "<table id=\"T_33115_\" class=\"dataframe\">\n",
              "  <thead>\n",
              "    <tr>\n",
              "      <th class=\"blank level0\" >&nbsp;</th>\n",
              "      <th class=\"col_heading level0 col0\" >Model Accuracy</th>\n",
              "      <th class=\"col_heading level0 col1\" >Model F1-Score</th>\n",
              "      <th class=\"col_heading level0 col2\" >precision</th>\n",
              "      <th class=\"col_heading level0 col3\" >recall</th>\n",
              "    </tr>\n",
              "  </thead>\n",
              "  <tbody>\n",
              "    <tr>\n",
              "      <th id=\"T_33115_level0_row0\" class=\"row_heading level0 row0\" >Decision Tree</th>\n",
              "      <td id=\"T_33115_row0_col0\" class=\"data row0 col0\" >95.01%</td>\n",
              "      <td id=\"T_33115_row0_col1\" class=\"data row0 col1\" >95.01%</td>\n",
              "      <td id=\"T_33115_row0_col2\" class=\"data row0 col2\" >95.89%</td>\n",
              "      <td id=\"T_33115_row0_col3\" class=\"data row0 col3\" >94.09%</td>\n",
              "    </tr>\n",
              "    <tr>\n",
              "      <th id=\"T_33115_level0_row1\" class=\"row_heading level0 row1\" >Logistic Regression</th>\n",
              "      <td id=\"T_33115_row1_col0\" class=\"data row1 col0\" >94.49%</td>\n",
              "      <td id=\"T_33115_row1_col1\" class=\"data row1 col1\" >94.49%</td>\n",
              "      <td id=\"T_33115_row1_col2\" class=\"data row1 col2\" >97.37%</td>\n",
              "      <td id=\"T_33115_row1_col3\" class=\"data row1 col3\" >91.49%</td>\n",
              "    </tr>\n",
              "    <tr>\n",
              "      <th id=\"T_33115_level0_row2\" class=\"row_heading level0 row2\" >Naive</th>\n",
              "      <td id=\"T_33115_row2_col0\" class=\"data row2 col0\" >91.04%</td>\n",
              "      <td id=\"T_33115_row2_col1\" class=\"data row2 col1\" >91.01%</td>\n",
              "      <td id=\"T_33115_row2_col2\" class=\"data row2 col2\" >97.02%</td>\n",
              "      <td id=\"T_33115_row2_col3\" class=\"data row2 col3\" >84.75%</td>\n",
              "    </tr>\n",
              "  </tbody>\n",
              "</table>\n"
            ]
          },
          "metadata": {},
          "execution_count": 162
        }
      ]
    },
    {
      "cell_type": "code",
      "source": [
        "fig = px.bar(Model_com_df['Model Accuracy']) \n",
        "fig.show()"
      ],
      "metadata": {
        "execution": {
          "iopub.execute_input": "2022-10-06T21:44:12.88769Z",
          "iopub.status.busy": "2022-10-06T21:44:12.887294Z",
          "iopub.status.idle": "2022-10-06T21:44:12.987481Z",
          "shell.execute_reply": "2022-10-06T21:44:12.986259Z"
        },
        "papermill": {
          "duration": 0.150284,
          "end_time": "2022-10-06T21:44:12.990014",
          "exception": false,
          "start_time": "2022-10-06T21:44:12.83973",
          "status": "completed"
        },
        "tags": [],
        "id": "J8AljdJgj8T6",
        "colab": {
          "base_uri": "https://localhost:8080/",
          "height": 542
        },
        "outputId": "81f2e1a7-75f2-4459-b6ec-b1c13aab725f"
      },
      "execution_count": 163,
      "outputs": [
        {
          "output_type": "display_data",
          "data": {
            "text/html": [
              "<html>\n",
              "<head><meta charset=\"utf-8\" /></head>\n",
              "<body>\n",
              "    <div>            <script src=\"https://cdnjs.cloudflare.com/ajax/libs/mathjax/2.7.5/MathJax.js?config=TeX-AMS-MML_SVG\"></script><script type=\"text/javascript\">if (window.MathJax) {MathJax.Hub.Config({SVG: {font: \"STIX-Web\"}});}</script>                <script type=\"text/javascript\">window.PlotlyConfig = {MathJaxConfig: 'local'};</script>\n",
              "        <script src=\"https://cdn.plot.ly/plotly-2.8.3.min.js\"></script>                <div id=\"f4c3b259-4674-45b7-ab7d-b0ffcbe87123\" class=\"plotly-graph-div\" style=\"height:525px; width:100%;\"></div>            <script type=\"text/javascript\">                                    window.PLOTLYENV=window.PLOTLYENV || {};                                    if (document.getElementById(\"f4c3b259-4674-45b7-ab7d-b0ffcbe87123\")) {                    Plotly.newPlot(                        \"f4c3b259-4674-45b7-ab7d-b0ffcbe87123\",                        [{\"alignmentgroup\":\"True\",\"hovertemplate\":\"variable=Model Accuracy<br>index=%{x}<br>value=%{y}<extra></extra>\",\"legendgroup\":\"Model Accuracy\",\"marker\":{\"color\":\"#636efa\",\"pattern\":{\"shape\":\"\"}},\"name\":\"Model Accuracy\",\"offsetgroup\":\"Model Accuracy\",\"orientation\":\"v\",\"showlegend\":true,\"textposition\":\"auto\",\"x\":[\"Decision Tree\",\"Logistic Regression\",\"Naive\"],\"xaxis\":\"x\",\"y\":[0.950115620200879,0.944934776085153,0.9104340611816208],\"yaxis\":\"y\",\"type\":\"bar\"}],                        {\"template\":{\"data\":{\"bar\":[{\"error_x\":{\"color\":\"#2a3f5f\"},\"error_y\":{\"color\":\"#2a3f5f\"},\"marker\":{\"line\":{\"color\":\"#E5ECF6\",\"width\":0.5},\"pattern\":{\"fillmode\":\"overlay\",\"size\":10,\"solidity\":0.2}},\"type\":\"bar\"}],\"barpolar\":[{\"marker\":{\"line\":{\"color\":\"#E5ECF6\",\"width\":0.5},\"pattern\":{\"fillmode\":\"overlay\",\"size\":10,\"solidity\":0.2}},\"type\":\"barpolar\"}],\"carpet\":[{\"aaxis\":{\"endlinecolor\":\"#2a3f5f\",\"gridcolor\":\"white\",\"linecolor\":\"white\",\"minorgridcolor\":\"white\",\"startlinecolor\":\"#2a3f5f\"},\"baxis\":{\"endlinecolor\":\"#2a3f5f\",\"gridcolor\":\"white\",\"linecolor\":\"white\",\"minorgridcolor\":\"white\",\"startlinecolor\":\"#2a3f5f\"},\"type\":\"carpet\"}],\"choropleth\":[{\"colorbar\":{\"outlinewidth\":0,\"ticks\":\"\"},\"type\":\"choropleth\"}],\"contour\":[{\"colorbar\":{\"outlinewidth\":0,\"ticks\":\"\"},\"colorscale\":[[0.0,\"#0d0887\"],[0.1111111111111111,\"#46039f\"],[0.2222222222222222,\"#7201a8\"],[0.3333333333333333,\"#9c179e\"],[0.4444444444444444,\"#bd3786\"],[0.5555555555555556,\"#d8576b\"],[0.6666666666666666,\"#ed7953\"],[0.7777777777777778,\"#fb9f3a\"],[0.8888888888888888,\"#fdca26\"],[1.0,\"#f0f921\"]],\"type\":\"contour\"}],\"contourcarpet\":[{\"colorbar\":{\"outlinewidth\":0,\"ticks\":\"\"},\"type\":\"contourcarpet\"}],\"heatmap\":[{\"colorbar\":{\"outlinewidth\":0,\"ticks\":\"\"},\"colorscale\":[[0.0,\"#0d0887\"],[0.1111111111111111,\"#46039f\"],[0.2222222222222222,\"#7201a8\"],[0.3333333333333333,\"#9c179e\"],[0.4444444444444444,\"#bd3786\"],[0.5555555555555556,\"#d8576b\"],[0.6666666666666666,\"#ed7953\"],[0.7777777777777778,\"#fb9f3a\"],[0.8888888888888888,\"#fdca26\"],[1.0,\"#f0f921\"]],\"type\":\"heatmap\"}],\"heatmapgl\":[{\"colorbar\":{\"outlinewidth\":0,\"ticks\":\"\"},\"colorscale\":[[0.0,\"#0d0887\"],[0.1111111111111111,\"#46039f\"],[0.2222222222222222,\"#7201a8\"],[0.3333333333333333,\"#9c179e\"],[0.4444444444444444,\"#bd3786\"],[0.5555555555555556,\"#d8576b\"],[0.6666666666666666,\"#ed7953\"],[0.7777777777777778,\"#fb9f3a\"],[0.8888888888888888,\"#fdca26\"],[1.0,\"#f0f921\"]],\"type\":\"heatmapgl\"}],\"histogram\":[{\"marker\":{\"pattern\":{\"fillmode\":\"overlay\",\"size\":10,\"solidity\":0.2}},\"type\":\"histogram\"}],\"histogram2d\":[{\"colorbar\":{\"outlinewidth\":0,\"ticks\":\"\"},\"colorscale\":[[0.0,\"#0d0887\"],[0.1111111111111111,\"#46039f\"],[0.2222222222222222,\"#7201a8\"],[0.3333333333333333,\"#9c179e\"],[0.4444444444444444,\"#bd3786\"],[0.5555555555555556,\"#d8576b\"],[0.6666666666666666,\"#ed7953\"],[0.7777777777777778,\"#fb9f3a\"],[0.8888888888888888,\"#fdca26\"],[1.0,\"#f0f921\"]],\"type\":\"histogram2d\"}],\"histogram2dcontour\":[{\"colorbar\":{\"outlinewidth\":0,\"ticks\":\"\"},\"colorscale\":[[0.0,\"#0d0887\"],[0.1111111111111111,\"#46039f\"],[0.2222222222222222,\"#7201a8\"],[0.3333333333333333,\"#9c179e\"],[0.4444444444444444,\"#bd3786\"],[0.5555555555555556,\"#d8576b\"],[0.6666666666666666,\"#ed7953\"],[0.7777777777777778,\"#fb9f3a\"],[0.8888888888888888,\"#fdca26\"],[1.0,\"#f0f921\"]],\"type\":\"histogram2dcontour\"}],\"mesh3d\":[{\"colorbar\":{\"outlinewidth\":0,\"ticks\":\"\"},\"type\":\"mesh3d\"}],\"parcoords\":[{\"line\":{\"colorbar\":{\"outlinewidth\":0,\"ticks\":\"\"}},\"type\":\"parcoords\"}],\"pie\":[{\"automargin\":true,\"type\":\"pie\"}],\"scatter\":[{\"marker\":{\"colorbar\":{\"outlinewidth\":0,\"ticks\":\"\"}},\"type\":\"scatter\"}],\"scatter3d\":[{\"line\":{\"colorbar\":{\"outlinewidth\":0,\"ticks\":\"\"}},\"marker\":{\"colorbar\":{\"outlinewidth\":0,\"ticks\":\"\"}},\"type\":\"scatter3d\"}],\"scattercarpet\":[{\"marker\":{\"colorbar\":{\"outlinewidth\":0,\"ticks\":\"\"}},\"type\":\"scattercarpet\"}],\"scattergeo\":[{\"marker\":{\"colorbar\":{\"outlinewidth\":0,\"ticks\":\"\"}},\"type\":\"scattergeo\"}],\"scattergl\":[{\"marker\":{\"colorbar\":{\"outlinewidth\":0,\"ticks\":\"\"}},\"type\":\"scattergl\"}],\"scattermapbox\":[{\"marker\":{\"colorbar\":{\"outlinewidth\":0,\"ticks\":\"\"}},\"type\":\"scattermapbox\"}],\"scatterpolar\":[{\"marker\":{\"colorbar\":{\"outlinewidth\":0,\"ticks\":\"\"}},\"type\":\"scatterpolar\"}],\"scatterpolargl\":[{\"marker\":{\"colorbar\":{\"outlinewidth\":0,\"ticks\":\"\"}},\"type\":\"scatterpolargl\"}],\"scatterternary\":[{\"marker\":{\"colorbar\":{\"outlinewidth\":0,\"ticks\":\"\"}},\"type\":\"scatterternary\"}],\"surface\":[{\"colorbar\":{\"outlinewidth\":0,\"ticks\":\"\"},\"colorscale\":[[0.0,\"#0d0887\"],[0.1111111111111111,\"#46039f\"],[0.2222222222222222,\"#7201a8\"],[0.3333333333333333,\"#9c179e\"],[0.4444444444444444,\"#bd3786\"],[0.5555555555555556,\"#d8576b\"],[0.6666666666666666,\"#ed7953\"],[0.7777777777777778,\"#fb9f3a\"],[0.8888888888888888,\"#fdca26\"],[1.0,\"#f0f921\"]],\"type\":\"surface\"}],\"table\":[{\"cells\":{\"fill\":{\"color\":\"#EBF0F8\"},\"line\":{\"color\":\"white\"}},\"header\":{\"fill\":{\"color\":\"#C8D4E3\"},\"line\":{\"color\":\"white\"}},\"type\":\"table\"}]},\"layout\":{\"annotationdefaults\":{\"arrowcolor\":\"#2a3f5f\",\"arrowhead\":0,\"arrowwidth\":1},\"autotypenumbers\":\"strict\",\"coloraxis\":{\"colorbar\":{\"outlinewidth\":0,\"ticks\":\"\"}},\"colorscale\":{\"diverging\":[[0,\"#8e0152\"],[0.1,\"#c51b7d\"],[0.2,\"#de77ae\"],[0.3,\"#f1b6da\"],[0.4,\"#fde0ef\"],[0.5,\"#f7f7f7\"],[0.6,\"#e6f5d0\"],[0.7,\"#b8e186\"],[0.8,\"#7fbc41\"],[0.9,\"#4d9221\"],[1,\"#276419\"]],\"sequential\":[[0.0,\"#0d0887\"],[0.1111111111111111,\"#46039f\"],[0.2222222222222222,\"#7201a8\"],[0.3333333333333333,\"#9c179e\"],[0.4444444444444444,\"#bd3786\"],[0.5555555555555556,\"#d8576b\"],[0.6666666666666666,\"#ed7953\"],[0.7777777777777778,\"#fb9f3a\"],[0.8888888888888888,\"#fdca26\"],[1.0,\"#f0f921\"]],\"sequentialminus\":[[0.0,\"#0d0887\"],[0.1111111111111111,\"#46039f\"],[0.2222222222222222,\"#7201a8\"],[0.3333333333333333,\"#9c179e\"],[0.4444444444444444,\"#bd3786\"],[0.5555555555555556,\"#d8576b\"],[0.6666666666666666,\"#ed7953\"],[0.7777777777777778,\"#fb9f3a\"],[0.8888888888888888,\"#fdca26\"],[1.0,\"#f0f921\"]]},\"colorway\":[\"#636efa\",\"#EF553B\",\"#00cc96\",\"#ab63fa\",\"#FFA15A\",\"#19d3f3\",\"#FF6692\",\"#B6E880\",\"#FF97FF\",\"#FECB52\"],\"font\":{\"color\":\"#2a3f5f\"},\"geo\":{\"bgcolor\":\"white\",\"lakecolor\":\"white\",\"landcolor\":\"#E5ECF6\",\"showlakes\":true,\"showland\":true,\"subunitcolor\":\"white\"},\"hoverlabel\":{\"align\":\"left\"},\"hovermode\":\"closest\",\"mapbox\":{\"style\":\"light\"},\"paper_bgcolor\":\"white\",\"plot_bgcolor\":\"#E5ECF6\",\"polar\":{\"angularaxis\":{\"gridcolor\":\"white\",\"linecolor\":\"white\",\"ticks\":\"\"},\"bgcolor\":\"#E5ECF6\",\"radialaxis\":{\"gridcolor\":\"white\",\"linecolor\":\"white\",\"ticks\":\"\"}},\"scene\":{\"xaxis\":{\"backgroundcolor\":\"#E5ECF6\",\"gridcolor\":\"white\",\"gridwidth\":2,\"linecolor\":\"white\",\"showbackground\":true,\"ticks\":\"\",\"zerolinecolor\":\"white\"},\"yaxis\":{\"backgroundcolor\":\"#E5ECF6\",\"gridcolor\":\"white\",\"gridwidth\":2,\"linecolor\":\"white\",\"showbackground\":true,\"ticks\":\"\",\"zerolinecolor\":\"white\"},\"zaxis\":{\"backgroundcolor\":\"#E5ECF6\",\"gridcolor\":\"white\",\"gridwidth\":2,\"linecolor\":\"white\",\"showbackground\":true,\"ticks\":\"\",\"zerolinecolor\":\"white\"}},\"shapedefaults\":{\"line\":{\"color\":\"#2a3f5f\"}},\"ternary\":{\"aaxis\":{\"gridcolor\":\"white\",\"linecolor\":\"white\",\"ticks\":\"\"},\"baxis\":{\"gridcolor\":\"white\",\"linecolor\":\"white\",\"ticks\":\"\"},\"bgcolor\":\"#E5ECF6\",\"caxis\":{\"gridcolor\":\"white\",\"linecolor\":\"white\",\"ticks\":\"\"}},\"title\":{\"x\":0.05},\"xaxis\":{\"automargin\":true,\"gridcolor\":\"white\",\"linecolor\":\"white\",\"ticks\":\"\",\"title\":{\"standoff\":15},\"zerolinecolor\":\"white\",\"zerolinewidth\":2},\"yaxis\":{\"automargin\":true,\"gridcolor\":\"white\",\"linecolor\":\"white\",\"ticks\":\"\",\"title\":{\"standoff\":15},\"zerolinecolor\":\"white\",\"zerolinewidth\":2}}},\"xaxis\":{\"anchor\":\"y\",\"domain\":[0.0,1.0],\"title\":{\"text\":\"index\"}},\"yaxis\":{\"anchor\":\"x\",\"domain\":[0.0,1.0],\"title\":{\"text\":\"value\"}},\"legend\":{\"title\":{\"text\":\"variable\"},\"tracegroupgap\":0},\"margin\":{\"t\":60},\"barmode\":\"relative\"},                        {\"responsive\": true}                    ).then(function(){\n",
              "                            \n",
              "var gd = document.getElementById('f4c3b259-4674-45b7-ab7d-b0ffcbe87123');\n",
              "var x = new MutationObserver(function (mutations, observer) {{\n",
              "        var display = window.getComputedStyle(gd).display;\n",
              "        if (!display || display === 'none') {{\n",
              "            console.log([gd, 'removed!']);\n",
              "            Plotly.purge(gd);\n",
              "            observer.disconnect();\n",
              "        }}\n",
              "}});\n",
              "\n",
              "// Listen for the removal of the full notebook cells\n",
              "var notebookContainer = gd.closest('#notebook-container');\n",
              "if (notebookContainer) {{\n",
              "    x.observe(notebookContainer, {childList: true});\n",
              "}}\n",
              "\n",
              "// Listen for the clearing of the current output cell\n",
              "var outputEl = gd.closest('.output');\n",
              "if (outputEl) {{\n",
              "    x.observe(outputEl, {childList: true});\n",
              "}}\n",
              "\n",
              "                        })                };                            </script>        </div>\n",
              "</body>\n",
              "</html>"
            ]
          },
          "metadata": {}
        }
      ]
    }
  ]
}